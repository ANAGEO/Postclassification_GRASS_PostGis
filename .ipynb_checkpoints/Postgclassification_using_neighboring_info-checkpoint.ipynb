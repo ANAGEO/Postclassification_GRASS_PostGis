{
 "cells": [
  {
   "cell_type": "markdown",
   "metadata": {},
   "source": [
    "### Recommandation"
   ]
  },
  {
   "cell_type": "markdown",
   "metadata": {},
   "source": [
    "Please be test at first time the rules for postclassification on a restricted subset of the area of interest as the computation on a very large area could take a while "
   ]
  },
  {
   "cell_type": "markdown",
   "metadata": {},
   "source": [
    "<center> <font size=6> <b> Table of Contents </b> </font> </center> \n",
    "<div id=\"toc\"></div>"
   ]
  },
  {
   "cell_type": "code",
   "execution_count": 1,
   "metadata": {
    "scrolled": true
   },
   "outputs": [
    {
     "data": {
      "application/javascript": [
       "$.getScript('https://kmahelona.github.io/ipython_notebook_goodies/ipython_notebook_toc.js')"
      ],
      "text/plain": [
       "<IPython.core.display.Javascript object>"
      ]
     },
     "metadata": {},
     "output_type": "display_data"
    }
   ],
   "source": [
    "%%javascript\n",
    "$.getScript('https://kmahelona.github.io/ipython_notebook_goodies/ipython_notebook_toc.js')"
   ]
  },
  {
   "cell_type": "markdown",
   "metadata": {},
   "source": [
    "**-_-_-_-_-_-_-_-_-_-_-_-_-_-_-_-_-_-_-_-_-_-_-_-_-_-_-_-_-_-_-_-_-_-_-_-_-_-_-_-_-_-_-_-_-_-_-_-_-_-_-_-_-_-_-_-_-_-_-_-_-**"
   ]
  },
  {
   "cell_type": "markdown",
   "metadata": {},
   "source": [
    "<center> <font size=5> <h1>Define working environment</h1> </font> </center> "
   ]
  },
  {
   "cell_type": "markdown",
   "metadata": {},
   "source": [
    "**Import libraries**"
   ]
  },
  {
   "cell_type": "code",
   "execution_count": 2,
   "metadata": {
    "collapsed": true
   },
   "outputs": [],
   "source": [
    "## Import libraries needed for setting parameters of operating system \n",
    "import os\n",
    "import sys\n",
    "import shutil\n",
    "\n",
    "## Import Pandas library\n",
    "import pandas as pd\n",
    "\n",
    "## Import Psycopg2 library (interection with postgres database)\n",
    "import psycopg2 as pg"
   ]
  },
  {
   "cell_type": "markdown",
   "metadata": {},
   "source": [
    "<center> <font size=3> <h3>Environment variables when working on Linux Mint</h3> </font> </center> "
   ]
  },
  {
   "cell_type": "markdown",
   "metadata": {},
   "source": [
    "**Set 'Python' and 'GRASS GIS' environment variables**"
   ]
  },
  {
   "cell_type": "code",
   "execution_count": 3,
   "metadata": {
    "collapsed": true
   },
   "outputs": [],
   "source": [
    "### Define GRASS GIS environment variables for LINUX UBUNTU Mint 18.1 (Serena)\n",
    "# Check is environmental variables exists and create them (empty) if not exists.\n",
    "if not 'PYTHONPATH' in os.environ:\n",
    "    os.environ['PYTHONPATH']=''\n",
    "if not 'LD_LIBRARY_PATH' in os.environ:\n",
    "    os.environ['LD_LIBRARY_PATH']=''\n",
    "# Set environmental variables\n",
    "os.environ['GISBASE'] = '/home/tais/SRC/GRASS/grass_trunk/dist.x86_64-pc-linux-gnu'\n",
    "os.environ['PATH'] += os.pathsep + os.path.join(os.environ['GISBASE'],'bin')\n",
    "os.environ['PATH'] += os.pathsep + os.path.join(os.environ['GISBASE'],'script')\n",
    "os.environ['PATH'] += os.pathsep + os.path.join(os.environ['GISBASE'],'lib')\n",
    "#os.environ['PATH'] += os.pathsep + os.path.join(os.environ['GISBASE'],'etc','python')\n",
    "os.environ['PYTHONPATH'] += os.pathsep + os.path.join(os.environ['GISBASE'],'etc','python')\n",
    "os.environ['PYTHONPATH'] += os.pathsep + os.path.join(os.environ['GISBASE'],'etc','python','grass')\n",
    "os.environ['PYTHONPATH'] += os.pathsep + os.path.join(os.environ['GISBASE'],'etc','python','grass','script')\n",
    "os.environ['PYTHONLIB'] = '/usr/lib/python2.7'\n",
    "os.environ['LD_LIBRARY_PATH'] += os.pathsep + os.path.join(os.environ['GISBASE'],'lib')\n",
    "os.environ['GIS_LOCK'] = '$$'\n",
    "os.environ['GISRC'] = os.path.join(os.environ['HOME'],'.grass7','rc')\n",
    "os.environ['PATH'] += os.pathsep + os.path.join(os.environ['HOME'],'.grass7','addons')\n",
    "os.environ['PATH'] += os.pathsep + os.path.join(os.environ['HOME'],'.grass7','addons','bin')\n",
    "os.environ['PATH'] += os.pathsep + os.path.join(os.environ['HOME'],'.grass7','addons')\n",
    "os.environ['PATH'] += os.pathsep + os.path.join(os.environ['HOME'],'.grass7','addons','scripts')\n",
    "\n",
    "## Define GRASS-Python environment\n",
    "sys.path.append(os.path.join(os.environ['GISBASE'],'etc','python'))"
   ]
  },
  {
   "cell_type": "markdown",
   "metadata": {
    "collapsed": true
   },
   "source": [
    "**Import GRASS Python packages**"
   ]
  },
  {
   "cell_type": "code",
   "execution_count": 4,
   "metadata": {
    "collapsed": true
   },
   "outputs": [],
   "source": [
    "## Import libraries needed to launch GRASS GIS in the jupyter notebook\n",
    "import grass.script.setup as gsetup\n",
    "\n",
    "## Import libraries needed to call GRASS using Python\n",
    "import grass.script as gscript"
   ]
  },
  {
   "cell_type": "markdown",
   "metadata": {},
   "source": [
    "**-_-_-_-_-_-_-_-_-_-_-_-_-_-_-_-_-_-_-_-_-_-_-_-_-_-_-_-_-_-_-_-_-_-_-_-_-_-_-_-_-_-_-_-_-_-_-_-_-_-_-_-_-_-_-_-_-_-_-_-_-**"
   ]
  },
  {
   "cell_type": "markdown",
   "metadata": {
    "collapsed": true
   },
   "source": [
    "**Display current environment variables of your computer**"
   ]
  },
  {
   "cell_type": "code",
   "execution_count": 5,
   "metadata": {
    "scrolled": true
   },
   "outputs": [
    {
     "name": "stdout",
     "output_type": "stream",
     "text": [
      "MDMSESSION = mate \t\n",
      "MANDATORY_PATH = /usr/share/gconf/mate.mandatory.path \t\n",
      "MATE_DESKTOP_SESSION_ID = this-is-deprecated \t\n",
      "LESSOPEN = | /usr/bin/lesspipe %s \t\n",
      "MDM_LANG = fr_BE.UTF-8 \t\n",
      "LOGNAME = tais \t\n",
      "USER = tais \t\n",
      "HOME = /home/tais \t\n",
      "XDG_VTNR = 9 \t\n",
      "PATH = /usr/local/bin:/home/tais/BIN:/home/tais/bin:/home/tais/.local/bin:/usr/local/sbin:/usr/local/bin:/usr/sbin:/usr/bin:/sbin:/bin:/usr/games:/usr/local/games:/home/tais/SRC/GRASS/grass_trunk/dist.x86_64-pc-linux-gnu/bin:/home/tais/SRC/GRASS/grass_trunk/dist.x86_64-pc-linux-gnu/script:/home/tais/SRC/GRASS/grass_trunk/dist.x86_64-pc-linux-gnu/lib:/home/tais/.grass7/addons:/home/tais/.grass7/addons/bin:/home/tais/.grass7/addons:/home/tais/.grass7/addons/scripts \t\n",
      "CLICOLOR = 1 \t\n",
      "DISPLAY = :0.0 \t\n",
      "SSH_AGENT_PID = 6804 \t\n",
      "LANG = fr_BE.UTF-8 \t\n",
      "TERM = xterm-color \t\n",
      "SHELL = /bin/bash \t\n",
      "GIS_LOCK = $$ \t\n",
      "XAUTHORITY = /home/tais/.Xauthority \t\n",
      "SESSION_MANAGER = local/tais-HP-Z620-Workstation:@/tmp/.ICE-unix/6733,unix/tais-HP-Z620-Workstation:/tmp/.ICE-unix/6733 \t\n",
      "SHLVL = 1 \t\n",
      "QT_LINUX_ACCESSIBILITY_ALWAYS_ON = 1 \t\n",
      "INSIDE_CAJA_PYTHON =  \t\n",
      "QT_ACCESSIBILITY = 1 \t\n",
      "LD_LIBRARY_PATH = :/home/tais/SRC/GRASS/grass_trunk/dist.x86_64-pc-linux-gnu/lib \t\n",
      "COMPIZ_CONFIG_PROFILE = mate \t\n",
      "WINDOWPATH = 9 \t\n",
      "GTK_OVERLAY_SCROLLING = 0 \t\n",
      "PYTHONPATH = :/home/tais/SRC/GRASS/grass_trunk/dist.x86_64-pc-linux-gnu/etc/python:/home/tais/SRC/GRASS/grass_trunk/dist.x86_64-pc-linux-gnu/etc/python/grass:/home/tais/SRC/GRASS/grass_trunk/dist.x86_64-pc-linux-gnu/etc/python/grass/script \t\n",
      "GISBASE = /home/tais/SRC/GRASS/grass_trunk/dist.x86_64-pc-linux-gnu \t\n",
      "CLUTTER_BACKEND = x11 \t\n",
      "USERNAME = tais \t\n",
      "XDG_SESSION_DESKTOP = mate \t\n",
      "GDM_XSERVER_LOCATION = local \t\n",
      "XDG_RUNTIME_DIR = /run/user/1000 \t\n",
      "JPY_PARENT_PID = 25795 \t\n",
      "QT_STYLE_OVERRIDE = gtk \t\n",
      "SSH_AUTH_SOCK = /run/user/1000/keyring/ssh \t\n",
      "VTE_VERSION = 4205 \t\n",
      "GDMSESSION = mate \t\n",
      "GISRC = /home/tais/.grass7/rc \t\n",
      "GIT_PAGER = cat \t\n",
      "XDG_CONFIG_DIRS = /etc/xdg/xdg-mate:/etc/xdg \t\n",
      "XDG_CURRENT_DESKTOP = MATE \t\n",
      "XDG_SESSION_ID = c51 \t\n",
      "DBUS_SESSION_BUS_ADDRESS = unix:abstract=/tmp/dbus-7agUsNkEu4,guid=f755764295b180170676a6425a784bb1 \t\n",
      "_ = /usr/local/bin/jupyter \t\n",
      "XDG_SESSION_COOKIE = 8441891e86e24d76b9616edf516d5734-1517833136.810975-2111369011 \t\n",
      "DESKTOP_SESSION = mate \t\n",
      "WINDOWID = 27264517 \t\n",
      "LESSCLOSE = /usr/bin/lesspipe %s %s \t\n",
      "DEFAULTS_PATH = /usr/share/gconf/mate.default.path \t\n",
      "MPLBACKEND = module://ipykernel.pylab.backend_inline \t\n",
      "OLDPWD = /media/tais/data/Dropbox/ULB/MAUPP/Traitements/Post_classification \t\n",
      "MDM_XSERVER_LOCATION = local \t\n",
      "GTK_MODULES = gail:atk-bridge \t\n",
      "XDG_DATA_DIRS = /usr/share/mate:/usr/local/share/:/usr/share/:/usr/share/mdm/ \t\n",
      "PWD = /media/tais/data/Dropbox/ULB/MAUPP/Traitements/Post_classification/postclassification \t\n",
      "COLORTERM = mate-terminal \t\n",
      "PYTHONLIB = /usr/lib/python2.7 \t\n",
      "LS_COLORS = rs=0:di=01;34:ln=01;36:mh=00:pi=40;33:so=01;35:do=01;35:bd=40;33;01:cd=40;33;01:or=40;31;01:mi=00:su=37;41:sg=30;43:ca=30;41:tw=30;42:ow=34;42:st=37;44:ex=01;32:*.tar=01;31:*.tgz=01;31:*.arc=01;31:*.arj=01;31:*.taz=01;31:*.lha=01;31:*.lz4=01;31:*.lzh=01;31:*.lzma=01;31:*.tlz=01;31:*.txz=01;31:*.tzo=01;31:*.t7z=01;31:*.zip=01;31:*.z=01;31:*.Z=01;31:*.dz=01;31:*.gz=01;31:*.lrz=01;31:*.lz=01;31:*.lzo=01;31:*.xz=01;31:*.bz2=01;31:*.bz=01;31:*.tbz=01;31:*.tbz2=01;31:*.tz=01;31:*.deb=01;31:*.rpm=01;31:*.jar=01;31:*.war=01;31:*.ear=01;31:*.sar=01;31:*.rar=01;31:*.alz=01;31:*.ace=01;31:*.zoo=01;31:*.cpio=01;31:*.7z=01;31:*.rz=01;31:*.cab=01;31:*.jpg=01;35:*.jpeg=01;35:*.gif=01;35:*.bmp=01;35:*.pbm=01;35:*.pgm=01;35:*.ppm=01;35:*.tga=01;35:*.xbm=01;35:*.xpm=01;35:*.tif=01;35:*.tiff=01;35:*.png=01;35:*.svg=01;35:*.svgz=01;35:*.mng=01;35:*.pcx=01;35:*.mov=01;35:*.mpg=01;35:*.mpeg=01;35:*.m2v=01;35:*.mkv=01;35:*.webm=01;35:*.ogm=01;35:*.mp4=01;35:*.m4v=01;35:*.mp4v=01;35:*.vob=01;35:*.qt=01;35:*.nuv=01;35:*.wmv=01;35:*.asf=01;35:*.rm=01;35:*.rmvb=01;35:*.flc=01;35:*.avi=01;35:*.fli=01;35:*.flv=01;35:*.gl=01;35:*.dl=01;35:*.xcf=01;35:*.xwd=01;35:*.yuv=01;35:*.cgm=01;35:*.emf=01;35:*.ogv=01;35:*.ogx=01;35:*.aac=00;36:*.au=00;36:*.flac=00;36:*.m4a=00;36:*.mid=00;36:*.midi=00;36:*.mka=00;36:*.mp3=00;36:*.mpc=00;36:*.ogg=00;36:*.ra=00;36:*.wav=00;36:*.oga=00;36:*.opus=00;36:*.spx=00;36:*.xspf=00;36: \t\n",
      "PAGER = cat \t\n",
      "XDG_SEAT = seat0 \t\n"
     ]
    }
   ],
   "source": [
    "## Display the current defined environment variables\n",
    "for key in os.environ.keys():\n",
    "    print \"%s = %s \\t\" % (key,os.environ[key])"
   ]
  },
  {
   "cell_type": "markdown",
   "metadata": {},
   "source": [
    "**-_-_-_-_-_-_-_-_-_-_-_-_-_-_-_-_-_-_-_-_-_-_-_-_-_-_-_-_-_-_-_-_-_-_-_-_-_-_-_-_-_-_-_-_-_-_-_-_-_-_-_-_-_-_-_-_-_-_-_-_-**"
   ]
  },
  {
   "cell_type": "markdown",
   "metadata": {},
   "source": [
    "<center> <font size=5> <h1>User inputs</h1> </font> </center> "
   ]
  },
  {
   "cell_type": "code",
   "execution_count": 6,
   "metadata": {
    "collapsed": true
   },
   "outputs": [],
   "source": [
    "## Define a empty dictionnary for saving user inputs\n",
    "user={}"
   ]
  },
  {
   "cell_type": "code",
   "execution_count": 7,
   "metadata": {
    "collapsed": true
   },
   "outputs": [],
   "source": [
    "## Enter the path to GRASSDATA folder\n",
    "user[\"gisdb\"] = \"/media/tais/data/Dropbox/ULB/MAUPP/Traitements/Post_classification/GRASSDATA\"\n",
    "\n",
    "## Enter the name of the location (existing or for a new one)\n",
    "user[\"location\"] = \"Ouaga_32630\"\n",
    "\n",
    "## Enter the EPSG code for this location \n",
    "user[\"locationepsg\"] = \"32630\"\n",
    "\n",
    "## Enter the name of the mapset to use\n",
    "user[\"working_mapsetname\"] = \"test\""
   ]
  },
  {
   "cell_type": "markdown",
   "metadata": {},
   "source": [
    "**-_-_-_-_-_-_-_-_-_-_-_-_-_-_-_-_-_-_-_-_-_-_-_-_-_-_-_-_-_-_-_-_-_-_-_-_-_-_-_-_-_-_-_-_-_-_-_-_-_-_-_-_-_-_-_-_-_-_-_-_-**"
   ]
  },
  {
   "cell_type": "markdown",
   "metadata": {},
   "source": [
    "<center> <font size=5> <h1>Define functions</h1> </font> </center> "
   ]
  },
  {
   "cell_type": "markdown",
   "metadata": {},
   "source": [
    "This section of the notebook is dedicated to defining functions which will then be called later in the script. If you want to create your own functions, define them here."
   ]
  },
  {
   "cell_type": "markdown",
   "metadata": {},
   "source": [
    "### Function for computing processing time"
   ]
  },
  {
   "cell_type": "markdown",
   "metadata": {},
   "source": [
    "The \"print_processing_time\" is used to calculate and display the processing time for various stages of the processing chain. At the beginning of each major step, the current time is stored in a new variable, using [time.time() function](https://docs.python.org/2/library/time.html). At the end of the stage in question, the \"print_processing_time\" function is called and takes as argument the name of this new variable containing the recorded time at the beginning of the stage, and an output message."
   ]
  },
  {
   "cell_type": "code",
   "execution_count": 8,
   "metadata": {
    "collapsed": true
   },
   "outputs": [],
   "source": [
    "## Import library for managing time in python\n",
    "import time  \n",
    "\n",
    "## Function \"print_processing_time()\" compute processing time and printing it.\n",
    "# The argument \"begintime\" wait for a variable containing the begintime (result of time.time()) of the process for which to compute processing time.\n",
    "# The argument \"printmessage\" wait for a string format with information about the process. \n",
    "def print_processing_time(begintime, printmessage):    \n",
    "    endtime=time.time()           \n",
    "    processtime=endtime-begintime\n",
    "    remainingtime=processtime\n",
    "\n",
    "    days=int((remainingtime)/86400)\n",
    "    remainingtime-=(days*86400)\n",
    "    hours=int((remainingtime)/3600)\n",
    "    remainingtime-=(hours*3600)\n",
    "    minutes=int((remainingtime)/60)\n",
    "    remainingtime-=(minutes*60)\n",
    "    seconds=round((remainingtime)%60,1)\n",
    "\n",
    "    if processtime<60:\n",
    "        finalprintmessage=str(printmessage)+str(seconds)+\" seconds\"\n",
    "    elif processtime<3600:\n",
    "        finalprintmessage=str(printmessage)+str(minutes)+\" minutes and \"+str(seconds)+\" seconds\"\n",
    "    elif processtime<86400:\n",
    "        finalprintmessage=str(printmessage)+str(hours)+\" hours and \"+str(minutes)+\" minutes and \"+str(seconds)+\" seconds\"\n",
    "    elif processtime>=86400:\n",
    "        finalprintmessage=str(printmessage)+str(days)+\" days, \"+str(hours)+\" hours and \"+str(minutes)+\" minutes and \"+str(seconds)+\" seconds\"\n",
    "    \n",
    "    return finalprintmessage"
   ]
  },
  {
   "cell_type": "markdown",
   "metadata": {
    "collapsed": true
   },
   "source": [
    "### Function for Postgres database vaccum"
   ]
  },
  {
   "cell_type": "code",
   "execution_count": 9,
   "metadata": {
    "collapsed": true
   },
   "outputs": [],
   "source": [
    "# Do a VACUUM on the current Postgresql database\n",
    "def vacuum(db):\n",
    "    old_isolation_level = db.isolation_level\n",
    "    db.set_isolation_level(0)\n",
    "    query = \"VACUUM\"\n",
    "    cur.execute(query)\n",
    "    db.set_isolation_level(old_isolation_level)"
   ]
  },
  {
   "cell_type": "markdown",
   "metadata": {},
   "source": [
    "### Define function to display header of a PostGis table"
   ]
  },
  {
   "cell_type": "code",
   "execution_count": 10,
   "metadata": {
    "collapsed": true
   },
   "outputs": [],
   "source": [
    "def display_header(db_connect, schema, table, nrow=15, subcolumns=\"*\", where=\"\", orderby=\"\"):\n",
    "    # Where subquery\n",
    "    where_query=where\n",
    "    if len(where)>0:\n",
    "        where_query=\"WHERE %s\"%where\n",
    "    # Order by subquery\n",
    "    orderby_query=orderby\n",
    "    if len(orderby)>0:\n",
    "        orderby_query=\"ORDER BY %s\"%orderby\n",
    "    query=\"SELECT %s FROM %s.%s %s %s LIMIT %s\"%(subcolumns,schema,table,where_query,orderby_query,nrow)\n",
    "    # Execute query through panda\n",
    "    df=pd.read_sql(query, db_connect)\n",
    "    # Show dataframe\n",
    "    return df.head(nrow)"
   ]
  },
  {
   "cell_type": "markdown",
   "metadata": {},
   "source": [
    "**-_-_-_-_-_-_-_-_-_-_-_-_-_-_-_-_-_-_-_-_-_-_-_-_-_-_-_-_-_-_-_-_-_-_-_-_-_-_-_-_-_-_-_-_-_-_-_-_-_-_-_-_-_-_-_-_-_-_-_-_-**"
   ]
  },
  {
   "cell_type": "markdown",
   "metadata": {},
   "source": [
    "### Instal GRASS extensions"
   ]
  },
  {
   "cell_type": "markdown",
   "metadata": {},
   "source": [
    "GRASS GIS have both a core part (the one installed by default on your computer) and add-ons (which have to be installed using the extension manager ['g.extension'](https://grass.osgeo.org/grass72/manuals/g.extension.html)).\n",
    "\n",
    "In the next cell, 'i.segment.uspo' will be installed (if not yet) and also other add-ons ['r.neighborhoodmatrix'](https://grass.osgeo.org/grass70/manuals/addons/r.neighborhoodmatrix.html) and ['i.segment.hierarchical'](https://grass.osgeo.org/grass70/manuals/addons/i.segment.hierarchical.html) required for running i.segment.uspo."
   ]
  },
  {
   "cell_type": "code",
   "execution_count": 9,
   "metadata": {},
   "outputs": [
    {
     "name": "stdout",
     "output_type": "stream",
     "text": [
      "You are now working in mapset 'PERMANENT'\n",
      "r.neighborhoodmatrix is already installed on your computer\n",
      "i.segment.stats is already installed on your computer\n",
      "r.object.geometry is already installed on your computer\n"
     ]
    }
   ],
   "source": [
    "## Launch GRASS GIS working session in the PERMANENT mapset\n",
    "if os.path.exists(os.path.join(user[\"gisdb\"],user[\"location\"],\"PERMANENT\")):\n",
    "    gsetup.init(os.environ['GISBASE'], user[\"gisdb\"], user[\"location\"], \"PERMANENT\")\n",
    "    print \"You are now working in mapset 'PERMANENT'\" \n",
    "else: \n",
    "    print \"'PERMANENT' mapset doesn't exists in \"+user[\"gisdb\"]\n",
    "    \n",
    "## Instal r.neighborhoodmatrix if not yet installed\n",
    "if \"r.neighborhoodmatrix\" not in grass.parse_command('g.extension', flags=\"a\"):\n",
    "    grass.run_command('g.extension', extension=\"r.neighborhoodmatrix\")\n",
    "    print \"r.neighborhoodmatrix have been installed on your computer\"\n",
    "else: print \"r.neighborhoodmatrix is already installed on your computer\" \n",
    "   \n",
    "## Instal i.segment.stats if not yet installed\n",
    "if \"i.segment.stats\" not in grass.parse_command('g.extension', flags=\"a\"):\n",
    "    grass.run_command('g.extension', extension=\"i.segment.stats\")\n",
    "    print \"i.segment.stats have been installed on your computer\"\n",
    "else: print \"i.segment.stats is already installed on your computer\" \n",
    "    \n",
    "## Instal r.object.geometry if not yet installed\n",
    "if \"r.object.geometry\" not in grass.parse_command('g.extension', flags=\"a\"):\n",
    "    grass.run_command('g.extension', extension=\"r.object.geometry\")\n",
    "    print \"r.object.geometry have been installed on your computer\"\n",
    "else: print \"r.object.geometry is already installed on your computer\" "
   ]
  },
  {
   "cell_type": "markdown",
   "metadata": {},
   "source": [
    "**-_-_-_-_-_-_-_-_-_-_-_-_-_-_-_-_-_-_-_-_-_-_-_-_-_-_-_-_-_-_-_-_-_-_-_-_-_-_-_-_-_-_-_-_-_-_-_-_-_-_-_-_-_-_-_-_-_-_-_-_-**"
   ]
  },
  {
   "cell_type": "code",
   "execution_count": 10,
   "metadata": {
    "collapsed": true
   },
   "outputs": [],
   "source": [
    "## Saving current time for processing time management\n",
    "begintime_full=time.time()"
   ]
  },
  {
   "cell_type": "markdown",
   "metadata": {
    "collapsed": true
   },
   "source": [
    "## Launch GRASS GIS working session"
   ]
  },
  {
   "cell_type": "code",
   "execution_count": 11,
   "metadata": {},
   "outputs": [
    {
     "name": "stdout",
     "output_type": "stream",
     "text": [
      "'test' mapset already exists\n"
     ]
    }
   ],
   "source": [
    "## Set the name of the mapset in which to work\n",
    "mapsetname=user[\"working_mapsetname\"]\n",
    "\n",
    "## Create the mapset if not exists\n",
    "if os.path.exists(os.path.join(user[\"gisdb\"],user[\"location\"],mapsetname)):\n",
    "    print \"'\"+mapsetname+\"' mapset already exists\"\n",
    "    if not os.path.exists(os.path.join(user[\"gisdb\"],user[\"location\"],mapsetname, 'WIND')):\n",
    "        shutil.copy(os.path.join(user[\"gisdb\"],user[\"location\"],'PERMANENT','WIND'),\n",
    "                    os.path.join(user[\"gisdb\"],user[\"location\"],mapsetname,'WIND'))\n",
    "else: \n",
    "    os.makedirs(os.path.join(user[\"gisdb\"],user[\"location\"],mapsetname))\n",
    "    shutil.copy(os.path.join(user[\"gisdb\"],user[\"location\"],'PERMANENT','WIND'),\n",
    "                os.path.join(user[\"gisdb\"],user[\"location\"],mapsetname,'WIND'))\n",
    "    print \"'\"+mapsetname+\"' mapset created in location \"+user[\"gisdb\"]"
   ]
  },
  {
   "cell_type": "code",
   "execution_count": 12,
   "metadata": {
    "scrolled": true
   },
   "outputs": [
    {
     "name": "stdout",
     "output_type": "stream",
     "text": [
      "You are now working in mapset 'test'\n"
     ]
    }
   ],
   "source": [
    "## Launch GRASS GIS working session in the mapset\n",
    "if os.path.exists(os.path.join(user[\"gisdb\"],user[\"location\"],mapsetname)):\n",
    "    gsetup.init(os.environ['GISBASE'], user[\"gisdb\"], user[\"location\"], mapsetname)\n",
    "    print \"You are now working in mapset '\"+mapsetname+\"'\" \n",
    "else: \n",
    "    print \"'\"+mapsetname+\"' mapset doesn't exists in \"+user[\"gisdb\"]"
   ]
  },
  {
   "cell_type": "markdown",
   "metadata": {},
   "source": [
    "**-_-_-_-_-_-_-_-_-_-_-_-_-_-_-_-_-_-_-_-_-_-_-_-_-_-_-_-_-_-_-_-_-_-_-_-_-_-_-_-_-_-_-_-_-_-_-_-_-_-_-_-_-_-_-_-_-_-_-_-_-**"
   ]
  },
  {
   "cell_type": "markdown",
   "metadata": {},
   "source": [
    "# Define files' path and layers' name"
   ]
  },
  {
   "cell_type": "markdown",
   "metadata": {},
   "source": [
    "** Define name of layers **"
   ]
  },
  {
   "cell_type": "code",
   "execution_count": 13,
   "metadata": {
    "collapsed": true
   },
   "outputs": [],
   "source": [
    "segment_layer='segmentation_raster@postclassification'\n",
    "classification_layer='rf_classif_l2b_classif_E@postclassification'"
   ]
  },
  {
   "cell_type": "markdown",
   "metadata": {},
   "source": [
    "** Define path to files **"
   ]
  },
  {
   "cell_type": "code",
   "execution_count": 14,
   "metadata": {
    "collapsed": true
   },
   "outputs": [],
   "source": [
    "# Neighborhood matrix\n",
    "nmatrix='/media/tais/data/Dropbox/ULB/MAUPP/Traitements/Post_classification/test/nmatrix'\n",
    "#\n",
    "seglabels='/media/tais/data/Dropbox/ULB/MAUPP/Traitements/Post_classification/test/seglabels'\n",
    "#\n",
    "segstats='/media/tais/data/Dropbox/ULB/MAUPP/Traitements/Post_classification/test/segstats'"
   ]
  },
  {
   "cell_type": "markdown",
   "metadata": {},
   "source": [
    "# Compute neighborhood matrix"
   ]
  },
  {
   "cell_type": "markdown",
   "metadata": {},
   "source": [
    "## Check if segmentation layer is in the current folder"
   ]
  },
  {
   "cell_type": "code",
   "execution_count": 68,
   "metadata": {},
   "outputs": [
    {
     "name": "stdout",
     "output_type": "stream",
     "text": [
      "Segmentation layer <segmentation_raster@postclassification> not found in <test> mapset.\n",
      "The layer will be copied in the current mapset.\n"
     ]
    }
   ],
   "source": [
    "# Check if segmentation layer is in the current mapset\n",
    "current_mapset=gscript.gisenv()['MAPSET']\n",
    "result = gscript.find_file(segment_layer.split(\"@\")[0]+\"@\"+current_mapset, element='cell')\n",
    "if len(result['name']) == 0:\n",
    "    print \"Segmentation layer <%s> not found in <%s> mapset.\"%(segment_layer,current_mapset)\n",
    "    print \"The layer will be copied in the current mapset.\"\n",
    "    gscript.run_command('g.copy', overwrite=True, raster='%s,%s'%(segment_layer,segment_layer.split(\"@\")[0]))\n",
    "    segment_layer=segment_layer.split(\"@\")[0]+\"@\"+current_mapset"
   ]
  },
  {
   "cell_type": "markdown",
   "metadata": {},
   "source": [
    "The following cell use r.neighborhoodmatrix. If you faced this error message, it is probably because you have an old version of this add-on installer on your computer. Please update it and retry.\n",
    "\n",
    "*ERREUR: r.neighborhoodmatrix : désolé, <l> n'est pas une option valide*"
   ]
  },
  {
   "cell_type": "code",
   "execution_count": 77,
   "metadata": {},
   "outputs": [
    {
     "data": {
      "text/plain": [
       "'Neighborhood matrix computed in 23.0 seconds'"
      ]
     },
     "execution_count": 77,
     "metadata": {},
     "output_type": "execute_result"
    }
   ],
   "source": [
    "## Saving current time for processing time management\n",
    "begintime_rmatrix=time.time()\n",
    "\n",
    "# Set-up number of cores to be used for r.neighborhoodmatrix\n",
    "import multiprocessing\n",
    "n_jobs=multiprocessing.cpu_count()-1  # Leave one core available to not freeze the computer\n",
    "if n_jobs > 4:\n",
    "    n_jobs=4 # Maximum parallelization available for this module.\n",
    "    \n",
    "# Compute neighborhood matrix\n",
    "gscript.run_command('g.region', raster=segment_layer) # Define the region to match the extension and resolution of the segmentation layer\n",
    "gscript.run_command('r.neighborhoodmatrix', overwrite=True, flags='l', \n",
    "                    input=segment_layer, output=nmatrix, processes=n_jobs)\n",
    "\n",
    "# Print processing time\n",
    "print_processing_time(begintime_rmatrix, \"Neighborhood matrix computed in \")"
   ]
  },
  {
   "cell_type": "markdown",
   "metadata": {},
   "source": [
    "# Get segments' labels and statistics (shape etc..)"
   ]
  },
  {
   "cell_type": "markdown",
   "metadata": {},
   "source": [
    "If you already have .csv files with labels and statistics of the segments, please set up the previous paths correctly and skip the following cell"
   ]
  },
  {
   "cell_type": "code",
   "execution_count": 81,
   "metadata": {
    "collapsed": true
   },
   "outputs": [],
   "source": [
    "## Saving current time for processing time management\n",
    "begintime=time.time()"
   ]
  },
  {
   "cell_type": "code",
   "execution_count": 82,
   "metadata": {},
   "outputs": [
    {
     "data": {
      "text/plain": [
       "0"
      ]
     },
     "execution_count": 82,
     "metadata": {},
     "output_type": "execute_result"
    }
   ],
   "source": [
    "# Get labels of segments\n",
    "gscript.run_command('i.segment.stats', overwrite=True, flags='s', map=segment_layer, \n",
    "                    rasters=classification_layer, raster_statistics='max', csvfile=seglabels)"
   ]
  },
  {
   "cell_type": "code",
   "execution_count": 83,
   "metadata": {},
   "outputs": [
    {
     "data": {
      "text/plain": [
       "0"
      ]
     },
     "execution_count": 83,
     "metadata": {},
     "output_type": "execute_result"
    }
   ],
   "source": [
    "# Set a list of raster from which to compute segment statistics\n",
    "listraster=[]\n",
    "listraster.append('ndsm@postclassification')\n",
    "listraster.append('ndvi@postclassification')\n",
    "\n",
    "# Set of raster statistics to be used\n",
    "rasterstat=[]\n",
    "rasterstat.append('min')\n",
    "rasterstat.append('max')\n",
    "rasterstat.append('mean')\n",
    "rasterstat.append('stddev')\n",
    "rasterstat.append('median')\n",
    "\n",
    "# Set of shape statistics to be computed\n",
    "shapestat=[]\n",
    "shapestat.append('area')\n",
    "shapestat.append('perimeter')\n",
    "shapestat.append('compact_circle')\n",
    "shapestat.append('compact_square')\n",
    "shapestat.append('fd')\n",
    "\n",
    "# Get some statistics of segments\n",
    "gscript.run_command('i.segment.stats', overwrite=True, map=segment_layer, \n",
    "                    rasters=listraster, raster_statistics=rasterstat,\n",
    "                    area_measures=shapestat, csvfile=segstats)"
   ]
  },
  {
   "cell_type": "code",
   "execution_count": 84,
   "metadata": {},
   "outputs": [
    {
     "data": {
      "text/plain": [
       "\"Segments' labels and statistics computed in 27.2 seconds\""
      ]
     },
     "execution_count": 84,
     "metadata": {},
     "output_type": "execute_result"
    }
   ],
   "source": [
    "# Print processing time\n",
    "print_processing_time(begintime, \"Segments' labels and statistics computed in \")"
   ]
  },
  {
   "cell_type": "markdown",
   "metadata": {},
   "source": [
    "# Import in PostGIS database"
   ]
  },
  {
   "cell_type": "markdown",
   "metadata": {},
   "source": [
    "In the next cell, please enter the information needed to connect to an existing PostGIS database. Please notice that it is assumed you already created this database and CREATE EXTENSION postgis on it."
   ]
  },
  {
   "cell_type": "code",
   "execution_count": 16,
   "metadata": {
    "collapsed": true
   },
   "outputs": [],
   "source": [
    "# User for postgresql connexion\n",
    "dbuser=\"tais\"\n",
    "# Password of user\n",
    "dbpassword=\"tais\"\n",
    "# Host of database\n",
    "host=\"localhost\"\n",
    "# Name of the new database\n",
    "dbname=\"ouaga_fullaoi_localsegment\"\n",
    "# Set name of schema for objects statistics\n",
    "postclass_schema=\"postclassif\"\n",
    "# Set the name for the final table containing the neighborhood information\n",
    "object_stats_table=\"neighborhood_information\""
   ]
  },
  {
   "cell_type": "code",
   "execution_count": 645,
   "metadata": {
    "collapsed": true
   },
   "outputs": [],
   "source": [
    "# Connect to an existing database\n",
    "db=pg.connect(database=dbname, user=dbuser, password=dbpassword, host=host)\n",
    "# Open a cursor to perform database operations\n",
    "cur=db.cursor()"
   ]
  },
  {
   "cell_type": "markdown",
   "metadata": {},
   "source": [
    "### Create extension 'postgis' and 'tablefunc'"
   ]
  },
  {
   "cell_type": "markdown",
   "metadata": {},
   "source": [
    "On linux: required the 'postgresql-contrib-9.X' package to be installed (with X corresponding to your version of PostgreSQL)."
   ]
  },
  {
   "cell_type": "code",
   "execution_count": 646,
   "metadata": {
    "collapsed": true
   },
   "outputs": [],
   "source": [
    "# Queries to exectue\n",
    "queries=[]\n",
    "queries.append(\"CREATE EXTENSION IF NOT EXISTS postgis\")\n",
    "queries.append(\"CREATE EXTENSION IF NOT EXISTS tablefunc\")\n",
    "# Execute the queries \n",
    "cur.execute(\";\".join(queries))\n",
    "# Make the changes to the database persistent\n",
    "db.commit()"
   ]
  },
  {
   "cell_type": "markdown",
   "metadata": {},
   "source": [
    "## Import neighborhood matrix"
   ]
  },
  {
   "cell_type": "code",
   "execution_count": 647,
   "metadata": {},
   "outputs": [
    {
     "data": {
      "text/plain": [
       "'Table imported in PostGis in 3.4 seconds'"
      ]
     },
     "execution_count": 647,
     "metadata": {},
     "output_type": "execute_result"
    }
   ],
   "source": [
    "## Saving current time for processing time management\n",
    "begintime=time.time()\n",
    "\n",
    "# Queries to exectue\n",
    "queries=[]\n",
    "queries.append(\"DROP TABLE IF EXISTS {schema}.rmatrix\".format(schema=postclass_schema))\n",
    "queries.append(\"CREATE TABLE {schema}.rmatrix \\\n",
    "(key_value serial PRIMARY KEY, segA integer, segB integer, border_count integer)\".format(schema=postclass_schema))\n",
    "queries.append(\"COPY {schema}.rmatrix(segA, segB, border_count) \\\n",
    "FROM '{pathtofile}' DELIMITER '|' CSV\".format(schema=postclass_schema,pathtofile=nmatrix))\n",
    "\n",
    "# Execute the queries \n",
    "cur.execute(\";\".join(queries))\n",
    "# Make the changes to the database persistent\n",
    "db.commit()\n",
    "               \n",
    "# Print processing time\n",
    "print_processing_time(begintime, \"Table imported in PostGis in \")"
   ]
  },
  {
   "cell_type": "code",
   "execution_count": 648,
   "metadata": {
    "scrolled": true
   },
   "outputs": [
    {
     "data": {
      "text/html": [
       "<div>\n",
       "<table border=\"1\" class=\"dataframe\">\n",
       "  <thead>\n",
       "    <tr style=\"text-align: right;\">\n",
       "      <th></th>\n",
       "      <th>key_value</th>\n",
       "      <th>sega</th>\n",
       "      <th>segb</th>\n",
       "      <th>border_count</th>\n",
       "    </tr>\n",
       "  </thead>\n",
       "  <tbody>\n",
       "    <tr>\n",
       "      <th>0</th>\n",
       "      <td>1</td>\n",
       "      <td>1989744</td>\n",
       "      <td>1990153</td>\n",
       "      <td>63</td>\n",
       "    </tr>\n",
       "    <tr>\n",
       "      <th>1</th>\n",
       "      <td>2</td>\n",
       "      <td>1989744</td>\n",
       "      <td>2077525</td>\n",
       "      <td>116</td>\n",
       "    </tr>\n",
       "    <tr>\n",
       "      <th>2</th>\n",
       "      <td>3</td>\n",
       "      <td>1990153</td>\n",
       "      <td>1989744</td>\n",
       "      <td>63</td>\n",
       "    </tr>\n",
       "    <tr>\n",
       "      <th>3</th>\n",
       "      <td>4</td>\n",
       "      <td>1990153</td>\n",
       "      <td>2037677</td>\n",
       "      <td>3</td>\n",
       "    </tr>\n",
       "    <tr>\n",
       "      <th>4</th>\n",
       "      <td>5</td>\n",
       "      <td>1990153</td>\n",
       "      <td>2041276</td>\n",
       "      <td>194</td>\n",
       "    </tr>\n",
       "    <tr>\n",
       "      <th>5</th>\n",
       "      <td>6</td>\n",
       "      <td>1990153</td>\n",
       "      <td>2054803</td>\n",
       "      <td>3</td>\n",
       "    </tr>\n",
       "    <tr>\n",
       "      <th>6</th>\n",
       "      <td>7</td>\n",
       "      <td>1990153</td>\n",
       "      <td>2072863</td>\n",
       "      <td>16</td>\n",
       "    </tr>\n",
       "    <tr>\n",
       "      <th>7</th>\n",
       "      <td>8</td>\n",
       "      <td>1990153</td>\n",
       "      <td>2075219</td>\n",
       "      <td>20</td>\n",
       "    </tr>\n",
       "    <tr>\n",
       "      <th>8</th>\n",
       "      <td>9</td>\n",
       "      <td>1990153</td>\n",
       "      <td>2077525</td>\n",
       "      <td>164</td>\n",
       "    </tr>\n",
       "    <tr>\n",
       "      <th>9</th>\n",
       "      <td>10</td>\n",
       "      <td>1990153</td>\n",
       "      <td>2077526</td>\n",
       "      <td>7</td>\n",
       "    </tr>\n",
       "  </tbody>\n",
       "</table>\n",
       "</div>"
      ],
      "text/plain": [
       "   key_value     sega     segb  border_count\n",
       "0          1  1989744  1990153            63\n",
       "1          2  1989744  2077525           116\n",
       "2          3  1990153  1989744            63\n",
       "3          4  1990153  2037677             3\n",
       "4          5  1990153  2041276           194\n",
       "5          6  1990153  2054803             3\n",
       "6          7  1990153  2072863            16\n",
       "7          8  1990153  2075219            20\n",
       "8          9  1990153  2077525           164\n",
       "9         10  1990153  2077526             7"
      ]
     },
     "execution_count": 648,
     "metadata": {},
     "output_type": "execute_result"
    }
   ],
   "source": [
    "display_header(db, postclass_schema, \"rmatrix\", nrow=10, subcolumns=\"*\")"
   ]
  },
  {
   "cell_type": "markdown",
   "metadata": {},
   "source": [
    "## Import segment labels"
   ]
  },
  {
   "cell_type": "code",
   "execution_count": 723,
   "metadata": {},
   "outputs": [
    {
     "data": {
      "text/plain": [
       "'Table imported in PostGis in 0.9 seconds'"
      ]
     },
     "execution_count": 723,
     "metadata": {},
     "output_type": "execute_result"
    }
   ],
   "source": [
    "## Saving current time for processing time management\n",
    "begintime=time.time()\n",
    "\n",
    "# Queries to exectue\n",
    "queries=[]\n",
    "queries.append(\"DROP TABLE IF EXISTS {schema}.seglabel\".format(schema=postclass_schema))\n",
    "queries.append(\"CREATE TABLE {schema}.seglabel \\\n",
    "(key_value serial PRIMARY KEY, seg integer, label integer)\".format(schema=postclass_schema))\n",
    "queries.append(\"COPY {schema}.seglabel(seg, label) \\\n",
    "FROM '{pathtofile}' HEADER DELIMITER '|' CSV\".format(schema=postclass_schema,pathtofile=seglabels))\n",
    "\n",
    "# Execute the queries \n",
    "cur.execute(\";\".join(queries))\n",
    "# Make the changes to the database persistent\n",
    "db.commit()\n",
    "\n",
    "# Print processing time\n",
    "print_processing_time(begintime, \"Table imported in PostGis in \")"
   ]
  },
  {
   "cell_type": "code",
   "execution_count": 724,
   "metadata": {
    "scrolled": true
   },
   "outputs": [
    {
     "data": {
      "text/html": [
       "<div>\n",
       "<table border=\"1\" class=\"dataframe\">\n",
       "  <thead>\n",
       "    <tr style=\"text-align: right;\">\n",
       "      <th></th>\n",
       "      <th>key_value</th>\n",
       "      <th>seg</th>\n",
       "      <th>label</th>\n",
       "    </tr>\n",
       "  </thead>\n",
       "  <tbody>\n",
       "    <tr>\n",
       "      <th>0</th>\n",
       "      <td>1</td>\n",
       "      <td>2427697</td>\n",
       "      <td>31</td>\n",
       "    </tr>\n",
       "    <tr>\n",
       "      <th>1</th>\n",
       "      <td>2</td>\n",
       "      <td>2427696</td>\n",
       "      <td>51</td>\n",
       "    </tr>\n",
       "    <tr>\n",
       "      <th>2</th>\n",
       "      <td>3</td>\n",
       "      <td>2427695</td>\n",
       "      <td>31</td>\n",
       "    </tr>\n",
       "    <tr>\n",
       "      <th>3</th>\n",
       "      <td>4</td>\n",
       "      <td>3262054</td>\n",
       "      <td>51</td>\n",
       "    </tr>\n",
       "    <tr>\n",
       "      <th>4</th>\n",
       "      <td>5</td>\n",
       "      <td>2986556</td>\n",
       "      <td>20</td>\n",
       "    </tr>\n",
       "    <tr>\n",
       "      <th>5</th>\n",
       "      <td>6</td>\n",
       "      <td>2427699</td>\n",
       "      <td>30</td>\n",
       "    </tr>\n",
       "    <tr>\n",
       "      <th>6</th>\n",
       "      <td>7</td>\n",
       "      <td>2427698</td>\n",
       "      <td>31</td>\n",
       "    </tr>\n",
       "    <tr>\n",
       "      <th>7</th>\n",
       "      <td>8</td>\n",
       "      <td>3379783</td>\n",
       "      <td>11</td>\n",
       "    </tr>\n",
       "    <tr>\n",
       "      <th>8</th>\n",
       "      <td>9</td>\n",
       "      <td>2926234</td>\n",
       "      <td>20</td>\n",
       "    </tr>\n",
       "    <tr>\n",
       "      <th>9</th>\n",
       "      <td>10</td>\n",
       "      <td>2679578</td>\n",
       "      <td>11</td>\n",
       "    </tr>\n",
       "  </tbody>\n",
       "</table>\n",
       "</div>"
      ],
      "text/plain": [
       "   key_value      seg  label\n",
       "0          1  2427697     31\n",
       "1          2  2427696     51\n",
       "2          3  2427695     31\n",
       "3          4  3262054     51\n",
       "4          5  2986556     20\n",
       "5          6  2427699     30\n",
       "6          7  2427698     31\n",
       "7          8  3379783     11\n",
       "8          9  2926234     20\n",
       "9         10  2679578     11"
      ]
     },
     "execution_count": 724,
     "metadata": {},
     "output_type": "execute_result"
    }
   ],
   "source": [
    "display_header(db, postclass_schema, \"seglabel\", nrow=10, subcolumns=\"*\")"
   ]
  },
  {
   "cell_type": "markdown",
   "metadata": {},
   "source": [
    "## Import segment statistics"
   ]
  },
  {
   "cell_type": "code",
   "execution_count": 651,
   "metadata": {},
   "outputs": [
    {
     "data": {
      "text/plain": [
       "'Table imported in PostGis in 1.7 seconds'"
      ]
     },
     "execution_count": 651,
     "metadata": {},
     "output_type": "execute_result"
    }
   ],
   "source": [
    "## Saving current time for processing time management\n",
    "begintime=time.time()\n",
    "\n",
    "# Import library\n",
    "import csv\n",
    "\n",
    "# Create a reader for the first csv file in the stack of csv to be imported\n",
    "fin=open(segstats, 'r')\n",
    "reader=csv.reader(fin, delimiter='|') \n",
    "column_name=reader.next() # Get the content of the first row\n",
    "\n",
    "## Build a query for creation of a new table with auto-incremental key-value (thus avoiding potential duplicates of 'cat' value)\n",
    "# All column data-types are set to 'text' in order to be able to import some 'nan', 'inf' or 'null' values present in statistics files\n",
    "queries=[]\n",
    "queries.append(\"DROP TABLE IF EXISTS {schema}.segstats\".format(schema=postclass_schema))\n",
    "queries.append(\"CREATE TABLE {schema}.segstats (\\\n",
    "key_value serial PRIMARY KEY, \\\n",
    "{firstcolumn} integer, \\\n",
    "{remaining_columns_declararation})\".format(schema=postclass_schema,\n",
    "                                           firstcolumn=column_name[0],\n",
    "                                           remaining_columns_declararation=\n",
    "                                           ','.join([\"%s double precision\"%column for column in column_name[1:]])))\n",
    "               \n",
    "# Create query for copy data from csv, avoiding the header, and updating only the column which are in the csv (to allow auto-incremental key value to wokr)\n",
    "queries.append(\"COPY {schema}.segstats ({columnsname}) \\\n",
    "FROM '{pathtofile}' HEADER DELIMITER '|' CSV\".format(schema=postclass_schema,\n",
    "                                                     columnsname=', '.join(column_name),\n",
    "                                                     pathtofile=segstats))\n",
    "\n",
    "# Execute the queries \n",
    "cur.execute(\";\".join(queries))\n",
    "# Make the changes to the database persistent\n",
    "db.commit() \n",
    "               \n",
    "# Print processing time\n",
    "print_processing_time(begintime, \"Table imported in PostGis in \")"
   ]
  },
  {
   "cell_type": "code",
   "execution_count": 652,
   "metadata": {
    "scrolled": true
   },
   "outputs": [
    {
     "data": {
      "text/html": [
       "<div>\n",
       "<table border=\"1\" class=\"dataframe\">\n",
       "  <thead>\n",
       "    <tr style=\"text-align: right;\">\n",
       "      <th></th>\n",
       "      <th>key_value</th>\n",
       "      <th>cat</th>\n",
       "      <th>area</th>\n",
       "      <th>perimeter</th>\n",
       "      <th>compact_circle</th>\n",
       "      <th>compact_square</th>\n",
       "      <th>fd</th>\n",
       "      <th>ndsm_min</th>\n",
       "      <th>ndsm_max</th>\n",
       "      <th>ndsm_mean</th>\n",
       "      <th>ndsm_stddev</th>\n",
       "      <th>ndsm_median</th>\n",
       "      <th>ndvi_min</th>\n",
       "      <th>ndvi_max</th>\n",
       "      <th>ndvi_mean</th>\n",
       "      <th>ndvi_stddev</th>\n",
       "      <th>ndvi_median</th>\n",
       "    </tr>\n",
       "  </thead>\n",
       "  <tbody>\n",
       "    <tr>\n",
       "      <th>0</th>\n",
       "      <td>1</td>\n",
       "      <td>2427697</td>\n",
       "      <td>22</td>\n",
       "      <td>38</td>\n",
       "      <td>2.285427</td>\n",
       "      <td>0.493728</td>\n",
       "      <td>2.353596</td>\n",
       "      <td>0.521667</td>\n",
       "      <td>0.548431</td>\n",
       "      <td>0.532218</td>\n",
       "      <td>0.007945</td>\n",
       "      <td>0.530960</td>\n",
       "      <td>0.500000</td>\n",
       "      <td>0.571134</td>\n",
       "      <td>0.531709</td>\n",
       "      <td>0.020572</td>\n",
       "      <td>0.524884</td>\n",
       "    </tr>\n",
       "    <tr>\n",
       "      <th>1</th>\n",
       "      <td>2</td>\n",
       "      <td>2427696</td>\n",
       "      <td>15</td>\n",
       "      <td>26</td>\n",
       "      <td>1.893751</td>\n",
       "      <td>0.595844</td>\n",
       "      <td>2.406171</td>\n",
       "      <td>0.138458</td>\n",
       "      <td>0.191132</td>\n",
       "      <td>0.147821</td>\n",
       "      <td>0.014122</td>\n",
       "      <td>0.142517</td>\n",
       "      <td>0.441964</td>\n",
       "      <td>0.582609</td>\n",
       "      <td>0.487677</td>\n",
       "      <td>0.039587</td>\n",
       "      <td>0.476132</td>\n",
       "    </tr>\n",
       "    <tr>\n",
       "      <th>2</th>\n",
       "      <td>3</td>\n",
       "      <td>2427695</td>\n",
       "      <td>179</td>\n",
       "      <td>122</td>\n",
       "      <td>2.572340</td>\n",
       "      <td>0.438659</td>\n",
       "      <td>1.852191</td>\n",
       "      <td>-0.054718</td>\n",
       "      <td>1.736328</td>\n",
       "      <td>0.719584</td>\n",
       "      <td>0.383932</td>\n",
       "      <td>0.664795</td>\n",
       "      <td>0.475862</td>\n",
       "      <td>0.683843</td>\n",
       "      <td>0.573127</td>\n",
       "      <td>0.035710</td>\n",
       "      <td>0.571978</td>\n",
       "    </tr>\n",
       "    <tr>\n",
       "      <th>3</th>\n",
       "      <td>4</td>\n",
       "      <td>3262054</td>\n",
       "      <td>24</td>\n",
       "      <td>28</td>\n",
       "      <td>1.612306</td>\n",
       "      <td>0.699854</td>\n",
       "      <td>2.096982</td>\n",
       "      <td>2.321045</td>\n",
       "      <td>4.458893</td>\n",
       "      <td>2.628381</td>\n",
       "      <td>0.515844</td>\n",
       "      <td>2.386960</td>\n",
       "      <td>0.153648</td>\n",
       "      <td>0.473042</td>\n",
       "      <td>0.281835</td>\n",
       "      <td>0.080867</td>\n",
       "      <td>0.280190</td>\n",
       "    </tr>\n",
       "    <tr>\n",
       "      <th>4</th>\n",
       "      <td>5</td>\n",
       "      <td>2986556</td>\n",
       "      <td>191</td>\n",
       "      <td>116</td>\n",
       "      <td>2.367753</td>\n",
       "      <td>0.476561</td>\n",
       "      <td>1.810106</td>\n",
       "      <td>0.055756</td>\n",
       "      <td>3.901215</td>\n",
       "      <td>0.966836</td>\n",
       "      <td>0.726370</td>\n",
       "      <td>0.637451</td>\n",
       "      <td>0.069292</td>\n",
       "      <td>0.290466</td>\n",
       "      <td>0.132087</td>\n",
       "      <td>0.037265</td>\n",
       "      <td>0.123797</td>\n",
       "    </tr>\n",
       "    <tr>\n",
       "      <th>5</th>\n",
       "      <td>6</td>\n",
       "      <td>2427699</td>\n",
       "      <td>16</td>\n",
       "      <td>24</td>\n",
       "      <td>1.692569</td>\n",
       "      <td>0.666667</td>\n",
       "      <td>2.292430</td>\n",
       "      <td>-0.010986</td>\n",
       "      <td>0.382629</td>\n",
       "      <td>0.047638</td>\n",
       "      <td>0.126045</td>\n",
       "      <td>0.000000</td>\n",
       "      <td>0.205224</td>\n",
       "      <td>0.345488</td>\n",
       "      <td>0.276986</td>\n",
       "      <td>0.040766</td>\n",
       "      <td>0.276594</td>\n",
       "    </tr>\n",
       "    <tr>\n",
       "      <th>6</th>\n",
       "      <td>7</td>\n",
       "      <td>2427698</td>\n",
       "      <td>86</td>\n",
       "      <td>44</td>\n",
       "      <td>1.338439</td>\n",
       "      <td>0.843056</td>\n",
       "      <td>1.699095</td>\n",
       "      <td>0.246063</td>\n",
       "      <td>1.659607</td>\n",
       "      <td>1.039895</td>\n",
       "      <td>0.374430</td>\n",
       "      <td>1.081570</td>\n",
       "      <td>0.513393</td>\n",
       "      <td>0.688817</td>\n",
       "      <td>0.599154</td>\n",
       "      <td>0.030733</td>\n",
       "      <td>0.599110</td>\n",
       "    </tr>\n",
       "    <tr>\n",
       "      <th>7</th>\n",
       "      <td>8</td>\n",
       "      <td>3379783</td>\n",
       "      <td>25</td>\n",
       "      <td>28</td>\n",
       "      <td>1.579731</td>\n",
       "      <td>0.714286</td>\n",
       "      <td>2.070389</td>\n",
       "      <td>0.000000</td>\n",
       "      <td>2.473145</td>\n",
       "      <td>1.332915</td>\n",
       "      <td>0.519546</td>\n",
       "      <td>1.313960</td>\n",
       "      <td>-0.023368</td>\n",
       "      <td>0.156382</td>\n",
       "      <td>0.055932</td>\n",
       "      <td>0.044484</td>\n",
       "      <td>0.047525</td>\n",
       "    </tr>\n",
       "    <tr>\n",
       "      <th>8</th>\n",
       "      <td>9</td>\n",
       "      <td>2926234</td>\n",
       "      <td>31</td>\n",
       "      <td>34</td>\n",
       "      <td>1.722634</td>\n",
       "      <td>0.655031</td>\n",
       "      <td>2.053780</td>\n",
       "      <td>-0.003937</td>\n",
       "      <td>0.270874</td>\n",
       "      <td>0.011110</td>\n",
       "      <td>0.049415</td>\n",
       "      <td>-0.000031</td>\n",
       "      <td>0.078781</td>\n",
       "      <td>0.121012</td>\n",
       "      <td>0.105834</td>\n",
       "      <td>0.010000</td>\n",
       "      <td>0.107050</td>\n",
       "    </tr>\n",
       "    <tr>\n",
       "      <th>9</th>\n",
       "      <td>10</td>\n",
       "      <td>2679578</td>\n",
       "      <td>98</td>\n",
       "      <td>50</td>\n",
       "      <td>1.424794</td>\n",
       "      <td>0.791960</td>\n",
       "      <td>1.706452</td>\n",
       "      <td>0.126984</td>\n",
       "      <td>1.859924</td>\n",
       "      <td>0.186903</td>\n",
       "      <td>0.175752</td>\n",
       "      <td>0.162460</td>\n",
       "      <td>-0.032915</td>\n",
       "      <td>0.133679</td>\n",
       "      <td>0.034071</td>\n",
       "      <td>0.036773</td>\n",
       "      <td>0.030331</td>\n",
       "    </tr>\n",
       "  </tbody>\n",
       "</table>\n",
       "</div>"
      ],
      "text/plain": [
       "   key_value      cat  area  perimeter  compact_circle  compact_square  \\\n",
       "0          1  2427697    22         38        2.285427        0.493728   \n",
       "1          2  2427696    15         26        1.893751        0.595844   \n",
       "2          3  2427695   179        122        2.572340        0.438659   \n",
       "3          4  3262054    24         28        1.612306        0.699854   \n",
       "4          5  2986556   191        116        2.367753        0.476561   \n",
       "5          6  2427699    16         24        1.692569        0.666667   \n",
       "6          7  2427698    86         44        1.338439        0.843056   \n",
       "7          8  3379783    25         28        1.579731        0.714286   \n",
       "8          9  2926234    31         34        1.722634        0.655031   \n",
       "9         10  2679578    98         50        1.424794        0.791960   \n",
       "\n",
       "         fd  ndsm_min  ndsm_max  ndsm_mean  ndsm_stddev  ndsm_median  \\\n",
       "0  2.353596  0.521667  0.548431   0.532218     0.007945     0.530960   \n",
       "1  2.406171  0.138458  0.191132   0.147821     0.014122     0.142517   \n",
       "2  1.852191 -0.054718  1.736328   0.719584     0.383932     0.664795   \n",
       "3  2.096982  2.321045  4.458893   2.628381     0.515844     2.386960   \n",
       "4  1.810106  0.055756  3.901215   0.966836     0.726370     0.637451   \n",
       "5  2.292430 -0.010986  0.382629   0.047638     0.126045     0.000000   \n",
       "6  1.699095  0.246063  1.659607   1.039895     0.374430     1.081570   \n",
       "7  2.070389  0.000000  2.473145   1.332915     0.519546     1.313960   \n",
       "8  2.053780 -0.003937  0.270874   0.011110     0.049415    -0.000031   \n",
       "9  1.706452  0.126984  1.859924   0.186903     0.175752     0.162460   \n",
       "\n",
       "   ndvi_min  ndvi_max  ndvi_mean  ndvi_stddev  ndvi_median  \n",
       "0  0.500000  0.571134   0.531709     0.020572     0.524884  \n",
       "1  0.441964  0.582609   0.487677     0.039587     0.476132  \n",
       "2  0.475862  0.683843   0.573127     0.035710     0.571978  \n",
       "3  0.153648  0.473042   0.281835     0.080867     0.280190  \n",
       "4  0.069292  0.290466   0.132087     0.037265     0.123797  \n",
       "5  0.205224  0.345488   0.276986     0.040766     0.276594  \n",
       "6  0.513393  0.688817   0.599154     0.030733     0.599110  \n",
       "7 -0.023368  0.156382   0.055932     0.044484     0.047525  \n",
       "8  0.078781  0.121012   0.105834     0.010000     0.107050  \n",
       "9 -0.032915  0.133679   0.034071     0.036773     0.030331  "
      ]
     },
     "execution_count": 652,
     "metadata": {},
     "output_type": "execute_result"
    }
   ],
   "source": [
    "display_header(db, postclass_schema, \"segstats\", nrow=10, subcolumns=\"*\")"
   ]
  },
  {
   "cell_type": "code",
   "execution_count": 535,
   "metadata": {
    "collapsed": true
   },
   "outputs": [],
   "source": [
    "# Close cursor and communication with the database\n",
    "cur.close()\n",
    "db.close()"
   ]
  },
  {
   "cell_type": "markdown",
   "metadata": {},
   "source": [
    "# Create table with neighbors information"
   ]
  },
  {
   "cell_type": "code",
   "execution_count": 725,
   "metadata": {
    "collapsed": true
   },
   "outputs": [],
   "source": [
    "# Connect to an existing database\n",
    "db=pg.connect(database=dbname, user=dbuser, password=dbpassword, host=host)\n",
    "# Open a cursor to perform database operations\n",
    "cur=db.cursor()"
   ]
  },
  {
   "cell_type": "markdown",
   "metadata": {},
   "source": [
    "### Get label of neighbor segments"
   ]
  },
  {
   "cell_type": "code",
   "execution_count": 726,
   "metadata": {},
   "outputs": [],
   "source": [
    "def neighbors_label_bordercount(db, cur, postclass_schema):\n",
    "    # Queries to exectue\n",
    "    queries=[]\n",
    "    queries.append(\"DROP TABLE IF EXISTS {schema}.tmp_A\".format(schema=postclass_schema))\n",
    "    queries.append(\"CREATE TABLE {schema}.tmp_A AS(SELECT sega AS seg, b.label, border_count \\\n",
    "    FROM {schema}.rmatrix AS a \\\n",
    "    LEFT JOIN {schema}.seglabel AS b ON a.segb=b.seg);\".format(schema=postclass_schema))\n",
    "    # Execute the queries \n",
    "    cur.execute(\";\".join(queries))\n",
    "    # Make the changes to the database persistent\n",
    "    db.commit()  "
   ]
  },
  {
   "cell_type": "code",
   "execution_count": 727,
   "metadata": {},
   "outputs": [
    {
     "data": {
      "text/plain": [
       "'Neighbors information table created in 1.5 seconds'"
      ]
     },
     "execution_count": 727,
     "metadata": {},
     "output_type": "execute_result"
    }
   ],
   "source": [
    "## Saving current time for processing time management\n",
    "begintime=time.time()\n",
    "## Create table with neighbors label and border count\n",
    "neighbors_label_bordercount(db, cur, postclass_schema)\n",
    "# Print processing time\n",
    "print_processing_time(begintime, \"Function executed in \")"
   ]
  },
  {
   "cell_type": "code",
   "execution_count": 728,
   "metadata": {
    "scrolled": false
   },
   "outputs": [
    {
     "data": {
      "text/html": [
       "<div>\n",
       "<table border=\"1\" class=\"dataframe\">\n",
       "  <thead>\n",
       "    <tr style=\"text-align: right;\">\n",
       "      <th></th>\n",
       "      <th>seg</th>\n",
       "      <th>label</th>\n",
       "      <th>border_count</th>\n",
       "    </tr>\n",
       "  </thead>\n",
       "  <tbody>\n",
       "    <tr>\n",
       "      <th>0</th>\n",
       "      <td>1990153</td>\n",
       "      <td>20</td>\n",
       "      <td>63</td>\n",
       "    </tr>\n",
       "    <tr>\n",
       "      <th>1</th>\n",
       "      <td>1990153</td>\n",
       "      <td>20</td>\n",
       "      <td>194</td>\n",
       "    </tr>\n",
       "    <tr>\n",
       "      <th>2</th>\n",
       "      <td>1990153</td>\n",
       "      <td>20</td>\n",
       "      <td>16</td>\n",
       "    </tr>\n",
       "    <tr>\n",
       "      <th>3</th>\n",
       "      <td>1990153</td>\n",
       "      <td>30</td>\n",
       "      <td>7</td>\n",
       "    </tr>\n",
       "    <tr>\n",
       "      <th>4</th>\n",
       "      <td>1990153</td>\n",
       "      <td>20</td>\n",
       "      <td>22</td>\n",
       "    </tr>\n",
       "    <tr>\n",
       "      <th>5</th>\n",
       "      <td>1990153</td>\n",
       "      <td>30</td>\n",
       "      <td>7</td>\n",
       "    </tr>\n",
       "    <tr>\n",
       "      <th>6</th>\n",
       "      <td>1990153</td>\n",
       "      <td>20</td>\n",
       "      <td>36</td>\n",
       "    </tr>\n",
       "    <tr>\n",
       "      <th>7</th>\n",
       "      <td>2010201</td>\n",
       "      <td>20</td>\n",
       "      <td>38</td>\n",
       "    </tr>\n",
       "    <tr>\n",
       "      <th>8</th>\n",
       "      <td>2014315</td>\n",
       "      <td>30</td>\n",
       "      <td>3</td>\n",
       "    </tr>\n",
       "    <tr>\n",
       "      <th>9</th>\n",
       "      <td>2015972</td>\n",
       "      <td>51</td>\n",
       "      <td>24</td>\n",
       "    </tr>\n",
       "  </tbody>\n",
       "</table>\n",
       "</div>"
      ],
      "text/plain": [
       "       seg  label  border_count\n",
       "0  1990153     20            63\n",
       "1  1990153     20           194\n",
       "2  1990153     20            16\n",
       "3  1990153     30             7\n",
       "4  1990153     20            22\n",
       "5  1990153     30             7\n",
       "6  1990153     20            36\n",
       "7  2010201     20            38\n",
       "8  2014315     30             3\n",
       "9  2015972     51            24"
      ]
     },
     "execution_count": 728,
     "metadata": {},
     "output_type": "execute_result"
    }
   ],
   "source": [
    "display_header(db, postclass_schema, \"tmp_A\", nrow=10, subcolumns=\"*\")"
   ]
  },
  {
   "cell_type": "markdown",
   "metadata": {},
   "source": [
    "### Get cumulative percentage of border shared with neighboring classes"
   ]
  },
  {
   "cell_type": "code",
   "execution_count": 729,
   "metadata": {},
   "outputs": [],
   "source": [
    "def neighbors_label_cumulatedbordercount(db, cur, postclass_schema):\n",
    "    # Queries to exectue\n",
    "    queries=[]\n",
    "    queries.append(\"DROP TABLE IF EXISTS {schema}.tmp_b\".format(schema=postclass_schema))\n",
    "    queries.append(\"CREATE TABLE {schema}.tmp_b AS(WITH \\\n",
    "    max_border AS(\\\n",
    "    SELECT seg, sum(border_count) AS sum_border FROM {schema}.tmp_a GROUP BY seg), \\\n",
    "    tempotable AS(\\\n",
    "    SELECT a.seg, a.label, (a.border_count*1.0/b.sum_border*1.0) AS percent_border \\\n",
    "    FROM {schema}.tmp_a AS a LEFT JOIN max_border AS b ON a.seg=b.seg)\\\n",
    "    SELECT seg, label, sum(percent_border) AS percent_border \\\n",
    "    FROM tempotable GROUP BY seg, label ORDER BY seg, label)\".format(schema=postclass_schema))\n",
    "    # Execute the queries \n",
    "    cur.execute(\";\".join(queries))\n",
    "    # Make the changes to the database persistent\n",
    "    db.commit()  "
   ]
  },
  {
   "cell_type": "code",
   "execution_count": 730,
   "metadata": {},
   "outputs": [
    {
     "data": {
      "text/plain": [
       "'Queries executed in 3.5 seconds'"
      ]
     },
     "execution_count": 730,
     "metadata": {},
     "output_type": "execute_result"
    }
   ],
   "source": [
    "## Saving current time for processing time management\n",
    "begintime=time.time()\n",
    "## Create table with neighbors label and cumulated border count (total for each type of neighboring label)\n",
    "neighbors_label_cumulatedbordercount(db, cur, postclass_schema)\n",
    "# Print processing time\n",
    "print_processing_time(begintime, \"Function executed in \")"
   ]
  },
  {
   "cell_type": "code",
   "execution_count": 731,
   "metadata": {
    "scrolled": false
   },
   "outputs": [
    {
     "data": {
      "text/html": [
       "<div>\n",
       "<table border=\"1\" class=\"dataframe\">\n",
       "  <thead>\n",
       "    <tr style=\"text-align: right;\">\n",
       "      <th></th>\n",
       "      <th>seg</th>\n",
       "      <th>label</th>\n",
       "      <th>percent_border</th>\n",
       "    </tr>\n",
       "  </thead>\n",
       "  <tbody>\n",
       "    <tr>\n",
       "      <th>0</th>\n",
       "      <td>1989744</td>\n",
       "      <td>20</td>\n",
       "      <td>1.000000</td>\n",
       "    </tr>\n",
       "    <tr>\n",
       "      <th>1</th>\n",
       "      <td>1990153</td>\n",
       "      <td>20</td>\n",
       "      <td>0.962617</td>\n",
       "    </tr>\n",
       "    <tr>\n",
       "      <th>2</th>\n",
       "      <td>1990153</td>\n",
       "      <td>30</td>\n",
       "      <td>0.037383</td>\n",
       "    </tr>\n",
       "    <tr>\n",
       "      <th>3</th>\n",
       "      <td>2010201</td>\n",
       "      <td>20</td>\n",
       "      <td>0.974359</td>\n",
       "    </tr>\n",
       "    <tr>\n",
       "      <th>4</th>\n",
       "      <td>2010201</td>\n",
       "      <td>30</td>\n",
       "      <td>0.025641</td>\n",
       "    </tr>\n",
       "    <tr>\n",
       "      <th>5</th>\n",
       "      <td>2014315</td>\n",
       "      <td>20</td>\n",
       "      <td>0.571429</td>\n",
       "    </tr>\n",
       "    <tr>\n",
       "      <th>6</th>\n",
       "      <td>2014315</td>\n",
       "      <td>30</td>\n",
       "      <td>0.428571</td>\n",
       "    </tr>\n",
       "    <tr>\n",
       "      <th>7</th>\n",
       "      <td>2015972</td>\n",
       "      <td>11</td>\n",
       "      <td>0.121622</td>\n",
       "    </tr>\n",
       "    <tr>\n",
       "      <th>8</th>\n",
       "      <td>2015972</td>\n",
       "      <td>20</td>\n",
       "      <td>0.185811</td>\n",
       "    </tr>\n",
       "    <tr>\n",
       "      <th>9</th>\n",
       "      <td>2015972</td>\n",
       "      <td>30</td>\n",
       "      <td>0.604730</td>\n",
       "    </tr>\n",
       "  </tbody>\n",
       "</table>\n",
       "</div>"
      ],
      "text/plain": [
       "       seg  label  percent_border\n",
       "0  1989744     20        1.000000\n",
       "1  1990153     20        0.962617\n",
       "2  1990153     30        0.037383\n",
       "3  2010201     20        0.974359\n",
       "4  2010201     30        0.025641\n",
       "5  2014315     20        0.571429\n",
       "6  2014315     30        0.428571\n",
       "7  2015972     11        0.121622\n",
       "8  2015972     20        0.185811\n",
       "9  2015972     30        0.604730"
      ]
     },
     "execution_count": 731,
     "metadata": {},
     "output_type": "execute_result"
    }
   ],
   "source": [
    "display_header(db, postclass_schema, \"tmp_B\", nrow=10, subcolumns=\"*\")"
   ]
  },
  {
   "cell_type": "markdown",
   "metadata": {},
   "source": [
    "### Pivoting table to get percentage of neighbors for each class in distinct columns"
   ]
  },
  {
   "cell_type": "code",
   "execution_count": 736,
   "metadata": {},
   "outputs": [],
   "source": [
    "# Define a global variable which will contain the list of current labels\n",
    "global labels_list\n",
    "\n",
    "# Define function\n",
    "def pivoted_proportion_label(db, cur, postclass_schema):\n",
    "    ## Get distinct values for 'label' class\n",
    "    distinctlabelquery=\"SELECT DISTINCT label FROM {schema}.tmp_b ORDER BY 1\".format(schema=postclass_schema)\n",
    "    labels_list=list(pd.read_sql(distinctlabelquery, db)['label'])\n",
    "    # Crosstab query argument\n",
    "    crosstabquery=\"SELECT seg, label, percent_border FROM {schema}.tmp_b ORDER  BY 1,2\".format(schema=postclass_schema)\n",
    "    # Declaration of colums for the pivot table\n",
    "    columns=[\"seg_id INTEGER\",]\n",
    "    [columns.append(\"prop_{label} NUMERIC\".format(label=label)) for label in labels_list]\n",
    "    # Queries to exectue\n",
    "    queries=[]\n",
    "    queries.append(\"DROP TABLE IF EXISTS {schema}.pivot_prop_label\".format(schema=postclass_schema))\n",
    "    queries.append(\"CREATE TABLE {schema}.pivot_prop_label AS(\\\n",
    "    SELECT * FROM crosstab('{crosstabquery}', '{distinctlabelquery}') \\\n",
    "    AS ct ({columns_declaration}))\".format(schema=postclass_schema,\n",
    "                                           crosstabquery=crosstabquery,\n",
    "                                           distinctlabelquery=distinctlabelquery,\n",
    "                                           columns_declaration=','.join(columns)))\n",
    "    # Create a list of with queries to update each column\n",
    "    [queries.append(\"UPDATE {schema}.pivot_prop_label SET prop_{label}=0 \\\n",
    "    WHERE prop_{label} is null\".format(schema=postclass_schema,label=label)) for label in labels_list]\n",
    "    # Execute the queries \n",
    "    cur.execute(\";\".join(queries))\n",
    "    # Make the changes to the database persistent\n",
    "    db.commit()  "
   ]
  },
  {
   "cell_type": "code",
   "execution_count": 740,
   "metadata": {},
   "outputs": [
    {
     "name": "stdout",
     "output_type": "stream",
     "text": [
      "Currently the labels are 11,13,14,20,30,31,41,51\n"
     ]
    }
   ],
   "source": [
    "## Saving current time for processing time management\n",
    "begintime=time.time()\n",
    "## Create pivot table with, for each segment, the shared proportion of border with each class\n",
    "pivoted_proportion_label(db, cur, postclass_schema)\n",
    "# Print processing time\n",
    "print print_processing_time(begintime, \"Function executed in \")\n",
    "# Print the current labels\n",
    "print \"Currently the labels are %s\"%','.join([str(x) for x in labels_list])"
   ]
  },
  {
   "cell_type": "code",
   "execution_count": 694,
   "metadata": {
    "scrolled": true
   },
   "outputs": [
    {
     "data": {
      "text/html": [
       "<div>\n",
       "<table border=\"1\" class=\"dataframe\">\n",
       "  <thead>\n",
       "    <tr style=\"text-align: right;\">\n",
       "      <th></th>\n",
       "      <th>seg_id</th>\n",
       "      <th>prop_11</th>\n",
       "      <th>prop_13</th>\n",
       "      <th>prop_14</th>\n",
       "      <th>prop_20</th>\n",
       "      <th>prop_30</th>\n",
       "      <th>prop_31</th>\n",
       "      <th>prop_41</th>\n",
       "      <th>prop_51</th>\n",
       "    </tr>\n",
       "  </thead>\n",
       "  <tbody>\n",
       "    <tr>\n",
       "      <th>0</th>\n",
       "      <td>2238132</td>\n",
       "      <td>0.508929</td>\n",
       "      <td>0</td>\n",
       "      <td>0.040179</td>\n",
       "      <td>0.223214</td>\n",
       "      <td>0.062500</td>\n",
       "      <td>0.026786</td>\n",
       "      <td>0.053571</td>\n",
       "      <td>0.084821</td>\n",
       "    </tr>\n",
       "    <tr>\n",
       "      <th>1</th>\n",
       "      <td>2611193</td>\n",
       "      <td>0.005764</td>\n",
       "      <td>0</td>\n",
       "      <td>0.005764</td>\n",
       "      <td>0.066282</td>\n",
       "      <td>0.688761</td>\n",
       "      <td>0.041787</td>\n",
       "      <td>0.079251</td>\n",
       "      <td>0.112392</td>\n",
       "    </tr>\n",
       "    <tr>\n",
       "      <th>2</th>\n",
       "      <td>2702550</td>\n",
       "      <td>0.326531</td>\n",
       "      <td>0</td>\n",
       "      <td>0.040816</td>\n",
       "      <td>0.285714</td>\n",
       "      <td>0.278912</td>\n",
       "      <td>0.003401</td>\n",
       "      <td>0.051020</td>\n",
       "      <td>0.013605</td>\n",
       "    </tr>\n",
       "    <tr>\n",
       "      <th>3</th>\n",
       "      <td>2838286</td>\n",
       "      <td>0.201961</td>\n",
       "      <td>0</td>\n",
       "      <td>0.051765</td>\n",
       "      <td>0.060000</td>\n",
       "      <td>0.216078</td>\n",
       "      <td>0.202745</td>\n",
       "      <td>0.047059</td>\n",
       "      <td>0.220392</td>\n",
       "    </tr>\n",
       "    <tr>\n",
       "      <th>4</th>\n",
       "      <td>2856571</td>\n",
       "      <td>0.140625</td>\n",
       "      <td>0</td>\n",
       "      <td>0.109375</td>\n",
       "      <td>0.117188</td>\n",
       "      <td>0.148438</td>\n",
       "      <td>0.234375</td>\n",
       "      <td>0.039062</td>\n",
       "      <td>0.210938</td>\n",
       "    </tr>\n",
       "    <tr>\n",
       "      <th>5</th>\n",
       "      <td>2869725</td>\n",
       "      <td>0.290139</td>\n",
       "      <td>0</td>\n",
       "      <td>0.004150</td>\n",
       "      <td>0.222650</td>\n",
       "      <td>0.205146</td>\n",
       "      <td>0.013958</td>\n",
       "      <td>0.007922</td>\n",
       "      <td>0.256036</td>\n",
       "    </tr>\n",
       "    <tr>\n",
       "      <th>6</th>\n",
       "      <td>2947869</td>\n",
       "      <td>0.394286</td>\n",
       "      <td>0</td>\n",
       "      <td>0.005714</td>\n",
       "      <td>0.128571</td>\n",
       "      <td>0.157143</td>\n",
       "      <td>0.017143</td>\n",
       "      <td>0.097143</td>\n",
       "      <td>0.200000</td>\n",
       "    </tr>\n",
       "    <tr>\n",
       "      <th>7</th>\n",
       "      <td>2970776</td>\n",
       "      <td>0.225410</td>\n",
       "      <td>0</td>\n",
       "      <td>0.038251</td>\n",
       "      <td>0.166667</td>\n",
       "      <td>0.131148</td>\n",
       "      <td>0.009563</td>\n",
       "      <td>0.027322</td>\n",
       "      <td>0.401639</td>\n",
       "    </tr>\n",
       "    <tr>\n",
       "      <th>8</th>\n",
       "      <td>3182808</td>\n",
       "      <td>0.433734</td>\n",
       "      <td>0</td>\n",
       "      <td>0.001907</td>\n",
       "      <td>0.098684</td>\n",
       "      <td>0.102975</td>\n",
       "      <td>0.040141</td>\n",
       "      <td>0.027555</td>\n",
       "      <td>0.295004</td>\n",
       "    </tr>\n",
       "    <tr>\n",
       "      <th>9</th>\n",
       "      <td>3220656</td>\n",
       "      <td>0.333851</td>\n",
       "      <td>0</td>\n",
       "      <td>0.004426</td>\n",
       "      <td>0.223236</td>\n",
       "      <td>0.074714</td>\n",
       "      <td>0.026537</td>\n",
       "      <td>0.008380</td>\n",
       "      <td>0.328855</td>\n",
       "    </tr>\n",
       "  </tbody>\n",
       "</table>\n",
       "</div>"
      ],
      "text/plain": [
       "    seg_id   prop_11  prop_13   prop_14   prop_20   prop_30   prop_31  \\\n",
       "0  2238132  0.508929        0  0.040179  0.223214  0.062500  0.026786   \n",
       "1  2611193  0.005764        0  0.005764  0.066282  0.688761  0.041787   \n",
       "2  2702550  0.326531        0  0.040816  0.285714  0.278912  0.003401   \n",
       "3  2838286  0.201961        0  0.051765  0.060000  0.216078  0.202745   \n",
       "4  2856571  0.140625        0  0.109375  0.117188  0.148438  0.234375   \n",
       "5  2869725  0.290139        0  0.004150  0.222650  0.205146  0.013958   \n",
       "6  2947869  0.394286        0  0.005714  0.128571  0.157143  0.017143   \n",
       "7  2970776  0.225410        0  0.038251  0.166667  0.131148  0.009563   \n",
       "8  3182808  0.433734        0  0.001907  0.098684  0.102975  0.040141   \n",
       "9  3220656  0.333851        0  0.004426  0.223236  0.074714  0.026537   \n",
       "\n",
       "    prop_41   prop_51  \n",
       "0  0.053571  0.084821  \n",
       "1  0.079251  0.112392  \n",
       "2  0.051020  0.013605  \n",
       "3  0.047059  0.220392  \n",
       "4  0.039062  0.210938  \n",
       "5  0.007922  0.256036  \n",
       "6  0.097143  0.200000  \n",
       "7  0.027322  0.401639  \n",
       "8  0.027555  0.295004  \n",
       "9  0.008380  0.328855  "
      ]
     },
     "execution_count": 694,
     "metadata": {},
     "output_type": "execute_result"
    }
   ],
   "source": [
    "display_header(db, postclass_schema, \"pivot_prop_label\", nrow=10, subcolumns=\"*\")"
   ]
  },
  {
   "cell_type": "markdown",
   "metadata": {},
   "source": [
    "### Join segment label and proportion of each neighboring label"
   ]
  },
  {
   "cell_type": "code",
   "execution_count": 741,
   "metadata": {},
   "outputs": [],
   "source": [
    "def join_segment_label(db, cur, postclass_schema):\n",
    "    # Queries to exectue\n",
    "    queries=[]\n",
    "    queries.append(\"DROP TABLE IF EXISTS {schema}.pivot_labeled\".format(schema=postclass_schema))\n",
    "    queries.append(\"CREATE TABLE {schema}.pivot_labeled AS(\\\n",
    "    SELECT a.seg, a.label, b.* \\\n",
    "    FROM {schema}.seglabel AS a LEFT JOIN {schema}.pivot_prop_label AS b \\\n",
    "    ON a.seg=b.seg_id)\".format(schema=postclass_schema))\n",
    "    queries.append(\"ALTER TABLE {schema}.pivot_labeled DROP COLUMN seg_id\".format(schema=postclass_schema))\n",
    "    # Execute the queries \n",
    "    cur.execute(\";\".join(queries))\n",
    "    # Make the changes to the database persistent\n",
    "    db.commit()  "
   ]
  },
  {
   "cell_type": "code",
   "execution_count": 742,
   "metadata": {},
   "outputs": [
    {
     "data": {
      "text/plain": [
       "'Queries executed in 0.7 seconds'"
      ]
     },
     "execution_count": 742,
     "metadata": {},
     "output_type": "execute_result"
    }
   ],
   "source": [
    "## Saving current time for processing time management\n",
    "begintime=time.time()\n",
    "## Join the label of each segment with the proportion of shared neighbors\n",
    "join_segment_label(db, cur, postclass_schema)\n",
    "# Print processing time\n",
    "print_processing_time(begintime, \"Function executed in \")"
   ]
  },
  {
   "cell_type": "code",
   "execution_count": 743,
   "metadata": {
    "scrolled": true
   },
   "outputs": [
    {
     "data": {
      "text/html": [
       "<div>\n",
       "<table border=\"1\" class=\"dataframe\">\n",
       "  <thead>\n",
       "    <tr style=\"text-align: right;\">\n",
       "      <th></th>\n",
       "      <th>seg</th>\n",
       "      <th>label</th>\n",
       "      <th>prop_11</th>\n",
       "      <th>prop_13</th>\n",
       "      <th>prop_14</th>\n",
       "      <th>prop_20</th>\n",
       "      <th>prop_30</th>\n",
       "      <th>prop_31</th>\n",
       "      <th>prop_41</th>\n",
       "      <th>prop_51</th>\n",
       "    </tr>\n",
       "  </thead>\n",
       "  <tbody>\n",
       "    <tr>\n",
       "      <th>0</th>\n",
       "      <td>2238132</td>\n",
       "      <td>51</td>\n",
       "      <td>0.508929</td>\n",
       "      <td>0.000000</td>\n",
       "      <td>0.040179</td>\n",
       "      <td>0.223214</td>\n",
       "      <td>0.062500</td>\n",
       "      <td>0.026786</td>\n",
       "      <td>0.053571</td>\n",
       "      <td>0.084821</td>\n",
       "    </tr>\n",
       "    <tr>\n",
       "      <th>1</th>\n",
       "      <td>2838286</td>\n",
       "      <td>20</td>\n",
       "      <td>0.201961</td>\n",
       "      <td>0.000000</td>\n",
       "      <td>0.051765</td>\n",
       "      <td>0.060000</td>\n",
       "      <td>0.216078</td>\n",
       "      <td>0.202745</td>\n",
       "      <td>0.047059</td>\n",
       "      <td>0.220392</td>\n",
       "    </tr>\n",
       "    <tr>\n",
       "      <th>2</th>\n",
       "      <td>2947869</td>\n",
       "      <td>11</td>\n",
       "      <td>0.394286</td>\n",
       "      <td>0.000000</td>\n",
       "      <td>0.005714</td>\n",
       "      <td>0.128571</td>\n",
       "      <td>0.157143</td>\n",
       "      <td>0.017143</td>\n",
       "      <td>0.097143</td>\n",
       "      <td>0.200000</td>\n",
       "    </tr>\n",
       "    <tr>\n",
       "      <th>3</th>\n",
       "      <td>2970776</td>\n",
       "      <td>20</td>\n",
       "      <td>0.225410</td>\n",
       "      <td>0.000000</td>\n",
       "      <td>0.038251</td>\n",
       "      <td>0.166667</td>\n",
       "      <td>0.131148</td>\n",
       "      <td>0.009563</td>\n",
       "      <td>0.027322</td>\n",
       "      <td>0.401639</td>\n",
       "    </tr>\n",
       "    <tr>\n",
       "      <th>4</th>\n",
       "      <td>3182808</td>\n",
       "      <td>20</td>\n",
       "      <td>0.433734</td>\n",
       "      <td>0.000000</td>\n",
       "      <td>0.001907</td>\n",
       "      <td>0.098684</td>\n",
       "      <td>0.102975</td>\n",
       "      <td>0.040141</td>\n",
       "      <td>0.027555</td>\n",
       "      <td>0.295004</td>\n",
       "    </tr>\n",
       "    <tr>\n",
       "      <th>5</th>\n",
       "      <td>3220656</td>\n",
       "      <td>20</td>\n",
       "      <td>0.333851</td>\n",
       "      <td>0.000000</td>\n",
       "      <td>0.004426</td>\n",
       "      <td>0.223236</td>\n",
       "      <td>0.074714</td>\n",
       "      <td>0.026537</td>\n",
       "      <td>0.008380</td>\n",
       "      <td>0.328855</td>\n",
       "    </tr>\n",
       "    <tr>\n",
       "      <th>6</th>\n",
       "      <td>3491661</td>\n",
       "      <td>20</td>\n",
       "      <td>0.323461</td>\n",
       "      <td>0.000000</td>\n",
       "      <td>0.020153</td>\n",
       "      <td>0.127723</td>\n",
       "      <td>0.118600</td>\n",
       "      <td>0.031727</td>\n",
       "      <td>0.003132</td>\n",
       "      <td>0.375204</td>\n",
       "    </tr>\n",
       "    <tr>\n",
       "      <th>7</th>\n",
       "      <td>2964791</td>\n",
       "      <td>11</td>\n",
       "      <td>0.142857</td>\n",
       "      <td>0.041667</td>\n",
       "      <td>0.000000</td>\n",
       "      <td>0.306548</td>\n",
       "      <td>0.023810</td>\n",
       "      <td>0.014881</td>\n",
       "      <td>0.059524</td>\n",
       "      <td>0.410714</td>\n",
       "    </tr>\n",
       "    <tr>\n",
       "      <th>8</th>\n",
       "      <td>3055654</td>\n",
       "      <td>20</td>\n",
       "      <td>0.447240</td>\n",
       "      <td>0.000235</td>\n",
       "      <td>0.000000</td>\n",
       "      <td>0.132618</td>\n",
       "      <td>0.132970</td>\n",
       "      <td>0.029386</td>\n",
       "      <td>0.016658</td>\n",
       "      <td>0.240894</td>\n",
       "    </tr>\n",
       "    <tr>\n",
       "      <th>9</th>\n",
       "      <td>3197507</td>\n",
       "      <td>20</td>\n",
       "      <td>0.287098</td>\n",
       "      <td>0.001192</td>\n",
       "      <td>0.000000</td>\n",
       "      <td>0.076728</td>\n",
       "      <td>0.122393</td>\n",
       "      <td>0.034788</td>\n",
       "      <td>0.000894</td>\n",
       "      <td>0.476907</td>\n",
       "    </tr>\n",
       "  </tbody>\n",
       "</table>\n",
       "</div>"
      ],
      "text/plain": [
       "       seg  label   prop_11   prop_13   prop_14   prop_20   prop_30   prop_31  \\\n",
       "0  2238132     51  0.508929  0.000000  0.040179  0.223214  0.062500  0.026786   \n",
       "1  2838286     20  0.201961  0.000000  0.051765  0.060000  0.216078  0.202745   \n",
       "2  2947869     11  0.394286  0.000000  0.005714  0.128571  0.157143  0.017143   \n",
       "3  2970776     20  0.225410  0.000000  0.038251  0.166667  0.131148  0.009563   \n",
       "4  3182808     20  0.433734  0.000000  0.001907  0.098684  0.102975  0.040141   \n",
       "5  3220656     20  0.333851  0.000000  0.004426  0.223236  0.074714  0.026537   \n",
       "6  3491661     20  0.323461  0.000000  0.020153  0.127723  0.118600  0.031727   \n",
       "7  2964791     11  0.142857  0.041667  0.000000  0.306548  0.023810  0.014881   \n",
       "8  3055654     20  0.447240  0.000235  0.000000  0.132618  0.132970  0.029386   \n",
       "9  3197507     20  0.287098  0.001192  0.000000  0.076728  0.122393  0.034788   \n",
       "\n",
       "    prop_41   prop_51  \n",
       "0  0.053571  0.084821  \n",
       "1  0.047059  0.220392  \n",
       "2  0.097143  0.200000  \n",
       "3  0.027322  0.401639  \n",
       "4  0.027555  0.295004  \n",
       "5  0.008380  0.328855  \n",
       "6  0.003132  0.375204  \n",
       "7  0.059524  0.410714  \n",
       "8  0.016658  0.240894  \n",
       "9  0.000894  0.476907  "
      ]
     },
     "execution_count": 743,
     "metadata": {},
     "output_type": "execute_result"
    }
   ],
   "source": [
    "display_header(db, postclass_schema, \"pivot_labeled\", nrow=10, subcolumns=\"*\")"
   ]
  },
  {
   "cell_type": "markdown",
   "metadata": {},
   "source": [
    "### Get the label of class sharing the largest common border, the second largest and third largest"
   ]
  },
  {
   "cell_type": "code",
   "execution_count": 744,
   "metadata": {},
   "outputs": [],
   "source": [
    "def add_larger_neighboring_labels(db, cur, postclass_schema):\n",
    "    # The trick was found here: https://stackoverflow.com/questions/8436919/second-maximum-and-minimum-values\n",
    "    # Get the largest, second largest and third largest value\n",
    "    queries=[]\n",
    "    queries.append(\"DROP TABLE IF EXISTS {schema}.tmp_C\".format(schema=postclass_schema))\n",
    "    queries.append(\"CREATE TABLE {schema}.tmp_C AS(\\\n",
    "    SELECT  seg AS seg_id,\\\n",
    "    max(case when rnDesc = 1 then percent_border end) as First_prop,\\\n",
    "    max(case when rnDesc = 2 then percent_border end) as Second_prop,\\\n",
    "    max(case when rnDesc = 3 then percent_border end) as Third_prop \\\n",
    "    from(select seg, percent_border, row_number() over (partition by seg order by percent_border desc) as rnDesc \\\n",
    "        FROM {schema}.tmp_B) as SubQueryAlias \\\n",
    "    GROUP BY seg)\".format(schema=postclass_schema))\n",
    "    # Join to existing table\n",
    "    subquery=\"SELECT * FROM {schema}.pivot_labeled AS a \\\n",
    "    LEFT JOIN {schema}.tmp_C AS b ON a.seg=b.seg_id\".format(schema=postclass_schema)\n",
    "    queries.append(\"DROP TABLE IF EXISTS {schema}.tmp_D\".format(schema=postclass_schema))\n",
    "    queries.append(\"CREATE TABLE {schema}.tmp_D AS({subquery})\".format(schema=postclass_schema,subquery=subquery))\n",
    "    queries.append(\"ALTER TABLE {schema}.tmp_D DROP COLUMN seg_id\".format(schema=postclass_schema))\n",
    "    # Get the label of the largest, second and thirds largest neighboring class\n",
    "    queries.append(\"ALTER TABLE {schema}.tmp_D ADD COLUMN first_label integer\".format(schema=postclass_schema))\n",
    "    queries.append(\"ALTER TABLE {schema}.tmp_D ADD COLUMN second_label integer\".format(schema=postclass_schema))\n",
    "    queries.append(\"ALTER TABLE {schema}.tmp_D ADD COLUMN third_label integer\".format(schema=postclass_schema))\n",
    "    for label in labels_list:\n",
    "        queries.append(\"UPDATE {schema}.tmp_D SET \\\n",
    "        first_label={label} WHERE first_prop=prop_{label}\".format(schema=postclass_schema,label=label))\n",
    "        queries.append(\"UPDATE {schema}.tmp_D SET \\\n",
    "        second_label={label} WHERE second_prop=prop_{label}\".format(schema=postclass_schema,label=label))\n",
    "        queries.append(\"UPDATE {schema}.tmp_D SET \\\n",
    "        third_label={label} WHERE third_prop=prop_{label}\".format(schema=postclass_schema,label=label))\n",
    "    queries.append(\"ALTER TABLE {schema}.tmp_D DROP COLUMN first_prop\".format(schema=postclass_schema))\n",
    "    queries.append(\"ALTER TABLE {schema}.tmp_D DROP COLUMN second_prop\".format(schema=postclass_schema))\n",
    "    queries.append(\"ALTER TABLE {schema}.tmp_D DROP COLUMN third_prop\".format(schema=postclass_schema))\n",
    "    # Execute the queries \n",
    "    cur.execute(\";\".join(queries))\n",
    "    # Make the changes to the database persistent\n",
    "    db.commit()  "
   ]
  },
  {
   "cell_type": "code",
   "execution_count": 745,
   "metadata": {},
   "outputs": [
    {
     "data": {
      "text/plain": [
       "'Queries executed in 6.1 seconds'"
      ]
     },
     "execution_count": 745,
     "metadata": {},
     "output_type": "execute_result"
    }
   ],
   "source": [
    "## Saving current time for processing time management\n",
    "begintime=time.time()\n",
    "## Add largest neighboring labels\n",
    "add_larger_neighboring_labels(db, cur, postclass_schema)\n",
    "# Print processing time\n",
    "print_processing_time(begintime, \"Function executed in \")"
   ]
  },
  {
   "cell_type": "code",
   "execution_count": 746,
   "metadata": {
    "scrolled": true
   },
   "outputs": [
    {
     "data": {
      "text/html": [
       "<div>\n",
       "<table border=\"1\" class=\"dataframe\">\n",
       "  <thead>\n",
       "    <tr style=\"text-align: right;\">\n",
       "      <th></th>\n",
       "      <th>seg</th>\n",
       "      <th>label</th>\n",
       "      <th>prop_11</th>\n",
       "      <th>prop_13</th>\n",
       "      <th>prop_14</th>\n",
       "      <th>prop_20</th>\n",
       "      <th>prop_30</th>\n",
       "      <th>prop_31</th>\n",
       "      <th>prop_41</th>\n",
       "      <th>prop_51</th>\n",
       "      <th>first_label</th>\n",
       "      <th>second_label</th>\n",
       "      <th>third_label</th>\n",
       "    </tr>\n",
       "  </thead>\n",
       "  <tbody>\n",
       "    <tr>\n",
       "      <th>0</th>\n",
       "      <td>1989744</td>\n",
       "      <td>20</td>\n",
       "      <td>0.000000</td>\n",
       "      <td>0</td>\n",
       "      <td>0</td>\n",
       "      <td>1.000000</td>\n",
       "      <td>0.000000</td>\n",
       "      <td>0.000000</td>\n",
       "      <td>0</td>\n",
       "      <td>0.000000</td>\n",
       "      <td>20</td>\n",
       "      <td>NaN</td>\n",
       "      <td>NaN</td>\n",
       "    </tr>\n",
       "    <tr>\n",
       "      <th>1</th>\n",
       "      <td>1990153</td>\n",
       "      <td>20</td>\n",
       "      <td>0.000000</td>\n",
       "      <td>0</td>\n",
       "      <td>0</td>\n",
       "      <td>0.962617</td>\n",
       "      <td>0.037383</td>\n",
       "      <td>0.000000</td>\n",
       "      <td>0</td>\n",
       "      <td>0.000000</td>\n",
       "      <td>20</td>\n",
       "      <td>30</td>\n",
       "      <td>NaN</td>\n",
       "    </tr>\n",
       "    <tr>\n",
       "      <th>2</th>\n",
       "      <td>2010201</td>\n",
       "      <td>30</td>\n",
       "      <td>0.000000</td>\n",
       "      <td>0</td>\n",
       "      <td>0</td>\n",
       "      <td>0.974359</td>\n",
       "      <td>0.025641</td>\n",
       "      <td>0.000000</td>\n",
       "      <td>0</td>\n",
       "      <td>0.000000</td>\n",
       "      <td>20</td>\n",
       "      <td>30</td>\n",
       "      <td>NaN</td>\n",
       "    </tr>\n",
       "    <tr>\n",
       "      <th>3</th>\n",
       "      <td>2014315</td>\n",
       "      <td>30</td>\n",
       "      <td>0.000000</td>\n",
       "      <td>0</td>\n",
       "      <td>0</td>\n",
       "      <td>0.571429</td>\n",
       "      <td>0.428571</td>\n",
       "      <td>0.000000</td>\n",
       "      <td>0</td>\n",
       "      <td>0.000000</td>\n",
       "      <td>20</td>\n",
       "      <td>30</td>\n",
       "      <td>NaN</td>\n",
       "    </tr>\n",
       "    <tr>\n",
       "      <th>4</th>\n",
       "      <td>2015972</td>\n",
       "      <td>20</td>\n",
       "      <td>0.121622</td>\n",
       "      <td>0</td>\n",
       "      <td>0</td>\n",
       "      <td>0.185811</td>\n",
       "      <td>0.604730</td>\n",
       "      <td>0.000000</td>\n",
       "      <td>0</td>\n",
       "      <td>0.087838</td>\n",
       "      <td>30</td>\n",
       "      <td>20</td>\n",
       "      <td>11</td>\n",
       "    </tr>\n",
       "    <tr>\n",
       "      <th>5</th>\n",
       "      <td>2016317</td>\n",
       "      <td>30</td>\n",
       "      <td>0.000000</td>\n",
       "      <td>0</td>\n",
       "      <td>0</td>\n",
       "      <td>0.565217</td>\n",
       "      <td>0.434783</td>\n",
       "      <td>0.000000</td>\n",
       "      <td>0</td>\n",
       "      <td>0.000000</td>\n",
       "      <td>20</td>\n",
       "      <td>30</td>\n",
       "      <td>NaN</td>\n",
       "    </tr>\n",
       "    <tr>\n",
       "      <th>6</th>\n",
       "      <td>2019084</td>\n",
       "      <td>51</td>\n",
       "      <td>0.448276</td>\n",
       "      <td>0</td>\n",
       "      <td>0</td>\n",
       "      <td>0.000000</td>\n",
       "      <td>0.500000</td>\n",
       "      <td>0.051724</td>\n",
       "      <td>0</td>\n",
       "      <td>0.000000</td>\n",
       "      <td>30</td>\n",
       "      <td>11</td>\n",
       "      <td>31</td>\n",
       "    </tr>\n",
       "    <tr>\n",
       "      <th>7</th>\n",
       "      <td>2021479</td>\n",
       "      <td>11</td>\n",
       "      <td>1.000000</td>\n",
       "      <td>0</td>\n",
       "      <td>0</td>\n",
       "      <td>0.000000</td>\n",
       "      <td>0.000000</td>\n",
       "      <td>0.000000</td>\n",
       "      <td>0</td>\n",
       "      <td>0.000000</td>\n",
       "      <td>11</td>\n",
       "      <td>NaN</td>\n",
       "      <td>NaN</td>\n",
       "    </tr>\n",
       "    <tr>\n",
       "      <th>8</th>\n",
       "      <td>2021881</td>\n",
       "      <td>11</td>\n",
       "      <td>0.418605</td>\n",
       "      <td>0</td>\n",
       "      <td>0</td>\n",
       "      <td>0.023256</td>\n",
       "      <td>0.052326</td>\n",
       "      <td>0.000000</td>\n",
       "      <td>0</td>\n",
       "      <td>0.505814</td>\n",
       "      <td>51</td>\n",
       "      <td>11</td>\n",
       "      <td>30</td>\n",
       "    </tr>\n",
       "    <tr>\n",
       "      <th>9</th>\n",
       "      <td>2023962</td>\n",
       "      <td>20</td>\n",
       "      <td>0.049563</td>\n",
       "      <td>0</td>\n",
       "      <td>0</td>\n",
       "      <td>0.000000</td>\n",
       "      <td>0.845481</td>\n",
       "      <td>0.075802</td>\n",
       "      <td>0</td>\n",
       "      <td>0.029155</td>\n",
       "      <td>30</td>\n",
       "      <td>31</td>\n",
       "      <td>11</td>\n",
       "    </tr>\n",
       "  </tbody>\n",
       "</table>\n",
       "</div>"
      ],
      "text/plain": [
       "       seg  label   prop_11  prop_13  prop_14   prop_20   prop_30   prop_31  \\\n",
       "0  1989744     20  0.000000        0        0  1.000000  0.000000  0.000000   \n",
       "1  1990153     20  0.000000        0        0  0.962617  0.037383  0.000000   \n",
       "2  2010201     30  0.000000        0        0  0.974359  0.025641  0.000000   \n",
       "3  2014315     30  0.000000        0        0  0.571429  0.428571  0.000000   \n",
       "4  2015972     20  0.121622        0        0  0.185811  0.604730  0.000000   \n",
       "5  2016317     30  0.000000        0        0  0.565217  0.434783  0.000000   \n",
       "6  2019084     51  0.448276        0        0  0.000000  0.500000  0.051724   \n",
       "7  2021479     11  1.000000        0        0  0.000000  0.000000  0.000000   \n",
       "8  2021881     11  0.418605        0        0  0.023256  0.052326  0.000000   \n",
       "9  2023962     20  0.049563        0        0  0.000000  0.845481  0.075802   \n",
       "\n",
       "   prop_41   prop_51  first_label  second_label  third_label  \n",
       "0        0  0.000000           20           NaN          NaN  \n",
       "1        0  0.000000           20            30          NaN  \n",
       "2        0  0.000000           20            30          NaN  \n",
       "3        0  0.000000           20            30          NaN  \n",
       "4        0  0.087838           30            20           11  \n",
       "5        0  0.000000           20            30          NaN  \n",
       "6        0  0.000000           30            11           31  \n",
       "7        0  0.000000           11           NaN          NaN  \n",
       "8        0  0.505814           51            11           30  \n",
       "9        0  0.029155           30            31           11  "
      ]
     },
     "execution_count": 746,
     "metadata": {},
     "output_type": "execute_result"
    }
   ],
   "source": [
    "display_header(db, postclass_schema, \"tmp_D\", nrow=10, subcolumns=\"*\", orderby=\"seg\")"
   ]
  },
  {
   "cell_type": "markdown",
   "metadata": {},
   "source": [
    "### Join segments stats (ndvi, etc...)"
   ]
  },
  {
   "cell_type": "code",
   "execution_count": 748,
   "metadata": {},
   "outputs": [],
   "source": [
    "def join_segment_stats(db, cur, postclass_schema):\n",
    "    # Queries to exectue\n",
    "    queries=[]\n",
    "    queries.append(\"DROP TABLE IF EXISTS {schema}.pivot_final\".format(schema=postclass_schema))\n",
    "    queries.append(\"CREATE TABLE {schema}.pivot_final AS(SELECT a.*, b.* FROM {schema}.tmp_D AS a \\\n",
    "    LEFT JOIN {schema}.segstats AS b ON a.seg=b.cat)\".format(schema=postclass_schema))\n",
    "    queries.append(\"ALTER TABLE {schema}.pivot_final DROP COLUMN cat\".format(schema=postclass_schema))\n",
    "    queries.append(\"ALTER TABLE {schema}.pivot_final DROP COLUMN key_value\".format(schema=postclass_schema))\n",
    "\n",
    "    # Execute the queries \n",
    "    cur.execute(\";\".join(queries))\n",
    "    # Make the changes to the database persistent\n",
    "    db.commit() "
   ]
  },
  {
   "cell_type": "code",
   "execution_count": 749,
   "metadata": {},
   "outputs": [
    {
     "data": {
      "text/plain": [
       "'Queries executed in 1.1 seconds'"
      ]
     },
     "execution_count": 749,
     "metadata": {},
     "output_type": "execute_result"
    }
   ],
   "source": [
    "## Saving current time for processing time management\n",
    "begintime=time.time()\n",
    "## Join segment statistics (ndvi, etc)\n",
    "join_segment_stats(db, cur, postclass_schema)\n",
    "# Print processing time\n",
    "print_processing_time(begintime, \"Function executed in \")"
   ]
  },
  {
   "cell_type": "code",
   "execution_count": 750,
   "metadata": {
    "scrolled": false
   },
   "outputs": [
    {
     "data": {
      "text/html": [
       "<div>\n",
       "<table border=\"1\" class=\"dataframe\">\n",
       "  <thead>\n",
       "    <tr style=\"text-align: right;\">\n",
       "      <th></th>\n",
       "      <th>seg</th>\n",
       "      <th>label</th>\n",
       "      <th>prop_11</th>\n",
       "      <th>prop_13</th>\n",
       "      <th>prop_14</th>\n",
       "      <th>prop_20</th>\n",
       "      <th>prop_30</th>\n",
       "      <th>prop_31</th>\n",
       "      <th>prop_41</th>\n",
       "      <th>prop_51</th>\n",
       "      <th>...</th>\n",
       "      <th>ndsm_min</th>\n",
       "      <th>ndsm_max</th>\n",
       "      <th>ndsm_mean</th>\n",
       "      <th>ndsm_stddev</th>\n",
       "      <th>ndsm_median</th>\n",
       "      <th>ndvi_min</th>\n",
       "      <th>ndvi_max</th>\n",
       "      <th>ndvi_mean</th>\n",
       "      <th>ndvi_stddev</th>\n",
       "      <th>ndvi_median</th>\n",
       "    </tr>\n",
       "  </thead>\n",
       "  <tbody>\n",
       "    <tr>\n",
       "      <th>0</th>\n",
       "      <td>2041281</td>\n",
       "      <td>11</td>\n",
       "      <td>1</td>\n",
       "      <td>0</td>\n",
       "      <td>0</td>\n",
       "      <td>0</td>\n",
       "      <td>0</td>\n",
       "      <td>0</td>\n",
       "      <td>0</td>\n",
       "      <td>0</td>\n",
       "      <td>...</td>\n",
       "      <td>0.000000</td>\n",
       "      <td>1.185303</td>\n",
       "      <td>0.255001</td>\n",
       "      <td>0.368044</td>\n",
       "      <td>0.124359</td>\n",
       "      <td>0.031354</td>\n",
       "      <td>0.092402</td>\n",
       "      <td>0.053583</td>\n",
       "      <td>0.017730</td>\n",
       "      <td>0.047354</td>\n",
       "    </tr>\n",
       "    <tr>\n",
       "      <th>1</th>\n",
       "      <td>2052452</td>\n",
       "      <td>11</td>\n",
       "      <td>1</td>\n",
       "      <td>0</td>\n",
       "      <td>0</td>\n",
       "      <td>0</td>\n",
       "      <td>0</td>\n",
       "      <td>0</td>\n",
       "      <td>0</td>\n",
       "      <td>0</td>\n",
       "      <td>...</td>\n",
       "      <td>0.528076</td>\n",
       "      <td>1.022156</td>\n",
       "      <td>0.954246</td>\n",
       "      <td>0.125494</td>\n",
       "      <td>0.986908</td>\n",
       "      <td>-0.009669</td>\n",
       "      <td>0.124485</td>\n",
       "      <td>0.053612</td>\n",
       "      <td>0.029873</td>\n",
       "      <td>0.053819</td>\n",
       "    </tr>\n",
       "    <tr>\n",
       "      <th>2</th>\n",
       "      <td>2118907</td>\n",
       "      <td>11</td>\n",
       "      <td>1</td>\n",
       "      <td>0</td>\n",
       "      <td>0</td>\n",
       "      <td>0</td>\n",
       "      <td>0</td>\n",
       "      <td>0</td>\n",
       "      <td>0</td>\n",
       "      <td>0</td>\n",
       "      <td>...</td>\n",
       "      <td>0.502075</td>\n",
       "      <td>1.867340</td>\n",
       "      <td>1.578603</td>\n",
       "      <td>0.303355</td>\n",
       "      <td>1.532470</td>\n",
       "      <td>-0.075200</td>\n",
       "      <td>0.102941</td>\n",
       "      <td>0.021650</td>\n",
       "      <td>0.051192</td>\n",
       "      <td>0.026643</td>\n",
       "    </tr>\n",
       "    <tr>\n",
       "      <th>3</th>\n",
       "      <td>2220923</td>\n",
       "      <td>30</td>\n",
       "      <td>0</td>\n",
       "      <td>0</td>\n",
       "      <td>0</td>\n",
       "      <td>1</td>\n",
       "      <td>0</td>\n",
       "      <td>0</td>\n",
       "      <td>0</td>\n",
       "      <td>0</td>\n",
       "      <td>...</td>\n",
       "      <td>-0.091003</td>\n",
       "      <td>0.039673</td>\n",
       "      <td>-0.030760</td>\n",
       "      <td>0.038226</td>\n",
       "      <td>-0.043091</td>\n",
       "      <td>0.164200</td>\n",
       "      <td>0.265845</td>\n",
       "      <td>0.230957</td>\n",
       "      <td>0.027954</td>\n",
       "      <td>0.235918</td>\n",
       "    </tr>\n",
       "    <tr>\n",
       "      <th>4</th>\n",
       "      <td>2295992</td>\n",
       "      <td>20</td>\n",
       "      <td>0</td>\n",
       "      <td>0</td>\n",
       "      <td>0</td>\n",
       "      <td>1</td>\n",
       "      <td>0</td>\n",
       "      <td>0</td>\n",
       "      <td>0</td>\n",
       "      <td>0</td>\n",
       "      <td>...</td>\n",
       "      <td>-0.001587</td>\n",
       "      <td>1.087860</td>\n",
       "      <td>0.149553</td>\n",
       "      <td>0.372645</td>\n",
       "      <td>0.000000</td>\n",
       "      <td>0.093567</td>\n",
       "      <td>0.159052</td>\n",
       "      <td>0.127235</td>\n",
       "      <td>0.012509</td>\n",
       "      <td>0.128758</td>\n",
       "    </tr>\n",
       "    <tr>\n",
       "      <th>5</th>\n",
       "      <td>2308336</td>\n",
       "      <td>51</td>\n",
       "      <td>1</td>\n",
       "      <td>0</td>\n",
       "      <td>0</td>\n",
       "      <td>0</td>\n",
       "      <td>0</td>\n",
       "      <td>0</td>\n",
       "      <td>0</td>\n",
       "      <td>0</td>\n",
       "      <td>...</td>\n",
       "      <td>0.120270</td>\n",
       "      <td>0.887024</td>\n",
       "      <td>0.703408</td>\n",
       "      <td>0.205496</td>\n",
       "      <td>0.764969</td>\n",
       "      <td>0.081172</td>\n",
       "      <td>0.218487</td>\n",
       "      <td>0.165193</td>\n",
       "      <td>0.033535</td>\n",
       "      <td>0.169399</td>\n",
       "    </tr>\n",
       "    <tr>\n",
       "      <th>6</th>\n",
       "      <td>2326335</td>\n",
       "      <td>11</td>\n",
       "      <td>1</td>\n",
       "      <td>0</td>\n",
       "      <td>0</td>\n",
       "      <td>0</td>\n",
       "      <td>0</td>\n",
       "      <td>0</td>\n",
       "      <td>0</td>\n",
       "      <td>0</td>\n",
       "      <td>...</td>\n",
       "      <td>-0.002930</td>\n",
       "      <td>0.912231</td>\n",
       "      <td>0.503615</td>\n",
       "      <td>0.407105</td>\n",
       "      <td>0.587692</td>\n",
       "      <td>0.062154</td>\n",
       "      <td>0.086435</td>\n",
       "      <td>0.074003</td>\n",
       "      <td>0.006718</td>\n",
       "      <td>0.072750</td>\n",
       "    </tr>\n",
       "    <tr>\n",
       "      <th>7</th>\n",
       "      <td>2346791</td>\n",
       "      <td>20</td>\n",
       "      <td>0</td>\n",
       "      <td>0</td>\n",
       "      <td>0</td>\n",
       "      <td>1</td>\n",
       "      <td>0</td>\n",
       "      <td>0</td>\n",
       "      <td>0</td>\n",
       "      <td>0</td>\n",
       "      <td>...</td>\n",
       "      <td>0.000000</td>\n",
       "      <td>0.000000</td>\n",
       "      <td>0.000000</td>\n",
       "      <td>0.000000</td>\n",
       "      <td>0.000000</td>\n",
       "      <td>0.111683</td>\n",
       "      <td>0.149517</td>\n",
       "      <td>0.126514</td>\n",
       "      <td>0.008061</td>\n",
       "      <td>0.126761</td>\n",
       "    </tr>\n",
       "    <tr>\n",
       "      <th>8</th>\n",
       "      <td>2388006</td>\n",
       "      <td>11</td>\n",
       "      <td>1</td>\n",
       "      <td>0</td>\n",
       "      <td>0</td>\n",
       "      <td>0</td>\n",
       "      <td>0</td>\n",
       "      <td>0</td>\n",
       "      <td>0</td>\n",
       "      <td>0</td>\n",
       "      <td>...</td>\n",
       "      <td>0.755035</td>\n",
       "      <td>2.873230</td>\n",
       "      <td>1.838798</td>\n",
       "      <td>0.838502</td>\n",
       "      <td>2.407650</td>\n",
       "      <td>0.072281</td>\n",
       "      <td>0.147221</td>\n",
       "      <td>0.118324</td>\n",
       "      <td>0.022026</td>\n",
       "      <td>0.119095</td>\n",
       "    </tr>\n",
       "    <tr>\n",
       "      <th>9</th>\n",
       "      <td>2398887</td>\n",
       "      <td>20</td>\n",
       "      <td>0</td>\n",
       "      <td>0</td>\n",
       "      <td>0</td>\n",
       "      <td>1</td>\n",
       "      <td>0</td>\n",
       "      <td>0</td>\n",
       "      <td>0</td>\n",
       "      <td>0</td>\n",
       "      <td>...</td>\n",
       "      <td>0.000000</td>\n",
       "      <td>0.000000</td>\n",
       "      <td>0.000000</td>\n",
       "      <td>0.000000</td>\n",
       "      <td>0.000000</td>\n",
       "      <td>0.120908</td>\n",
       "      <td>0.167683</td>\n",
       "      <td>0.144004</td>\n",
       "      <td>0.011992</td>\n",
       "      <td>0.143850</td>\n",
       "    </tr>\n",
       "  </tbody>\n",
       "</table>\n",
       "<p>10 rows × 28 columns</p>\n",
       "</div>"
      ],
      "text/plain": [
       "       seg  label  prop_11  prop_13  prop_14  prop_20  prop_30  prop_31  \\\n",
       "0  2041281     11        1        0        0        0        0        0   \n",
       "1  2052452     11        1        0        0        0        0        0   \n",
       "2  2118907     11        1        0        0        0        0        0   \n",
       "3  2220923     30        0        0        0        1        0        0   \n",
       "4  2295992     20        0        0        0        1        0        0   \n",
       "5  2308336     51        1        0        0        0        0        0   \n",
       "6  2326335     11        1        0        0        0        0        0   \n",
       "7  2346791     20        0        0        0        1        0        0   \n",
       "8  2388006     11        1        0        0        0        0        0   \n",
       "9  2398887     20        0        0        0        1        0        0   \n",
       "\n",
       "   prop_41  prop_51     ...       ndsm_min  ndsm_max ndsm_mean  ndsm_stddev  \\\n",
       "0        0        0     ...       0.000000  1.185303  0.255001     0.368044   \n",
       "1        0        0     ...       0.528076  1.022156  0.954246     0.125494   \n",
       "2        0        0     ...       0.502075  1.867340  1.578603     0.303355   \n",
       "3        0        0     ...      -0.091003  0.039673 -0.030760     0.038226   \n",
       "4        0        0     ...      -0.001587  1.087860  0.149553     0.372645   \n",
       "5        0        0     ...       0.120270  0.887024  0.703408     0.205496   \n",
       "6        0        0     ...      -0.002930  0.912231  0.503615     0.407105   \n",
       "7        0        0     ...       0.000000  0.000000  0.000000     0.000000   \n",
       "8        0        0     ...       0.755035  2.873230  1.838798     0.838502   \n",
       "9        0        0     ...       0.000000  0.000000  0.000000     0.000000   \n",
       "\n",
       "   ndsm_median  ndvi_min  ndvi_max  ndvi_mean  ndvi_stddev  ndvi_median  \n",
       "0     0.124359  0.031354  0.092402   0.053583     0.017730     0.047354  \n",
       "1     0.986908 -0.009669  0.124485   0.053612     0.029873     0.053819  \n",
       "2     1.532470 -0.075200  0.102941   0.021650     0.051192     0.026643  \n",
       "3    -0.043091  0.164200  0.265845   0.230957     0.027954     0.235918  \n",
       "4     0.000000  0.093567  0.159052   0.127235     0.012509     0.128758  \n",
       "5     0.764969  0.081172  0.218487   0.165193     0.033535     0.169399  \n",
       "6     0.587692  0.062154  0.086435   0.074003     0.006718     0.072750  \n",
       "7     0.000000  0.111683  0.149517   0.126514     0.008061     0.126761  \n",
       "8     2.407650  0.072281  0.147221   0.118324     0.022026     0.119095  \n",
       "9     0.000000  0.120908  0.167683   0.144004     0.011992     0.143850  \n",
       "\n",
       "[10 rows x 28 columns]"
      ]
     },
     "execution_count": 750,
     "metadata": {},
     "output_type": "execute_result"
    }
   ],
   "source": [
    "display_header(db, postclass_schema, \"pivot_final\", nrow=10, subcolumns=\"*\")"
   ]
  },
  {
   "cell_type": "markdown",
   "metadata": {},
   "source": [
    "### Drop intermediate tables"
   ]
  },
  {
   "cell_type": "code",
   "execution_count": 751,
   "metadata": {},
   "outputs": [],
   "source": [
    "def drop_intermediate_tables(db, cur, postclass_schema):\n",
    "    # Queries to exectue\n",
    "    queries=[]\n",
    "    queries.append(\"DROP TABLE IF EXISTS {schema}.tmp_a\".format(schema=postclass_schema))\n",
    "    queries.append(\"DROP TABLE IF EXISTS {schema}.tmp_b\".format(schema=postclass_schema))\n",
    "    queries.append(\"DROP TABLE IF EXISTS {schema}.tmp_c\".format(schema=postclass_schema))\n",
    "    queries.append(\"DROP TABLE IF EXISTS {schema}.tmp_d\".format(schema=postclass_schema))\n",
    "    queries.append(\"DROP TABLE IF EXISTS {schema}.pivot_labeled\".format(schema=postclass_schema))\n",
    "    queries.append(\"DROP TABLE IF EXISTS {schema}.pivot_prop_label\".format(schema=postclass_schema))\n",
    "    #queries.append(\"DROP TABLE IF EXISTS {schema}.rmatrix\".format(schema=postclass_schema))\n",
    "    #queries.append(\"DROP TABLE IF EXISTS {schema}.seglabel\".format(schema=postclass_schema))\n",
    "    #queries.append(\"DROP TABLE IF EXISTS {schema}.segstats\".format(schema=postclass_schema))\n",
    "    # Execute the queries \n",
    "    cur.execute(\";\".join(queries))\n",
    "    # Make the changes to the database persistent\n",
    "    db.commit()  "
   ]
  },
  {
   "cell_type": "code",
   "execution_count": 752,
   "metadata": {},
   "outputs": [
    {
     "data": {
      "text/plain": [
       "'Queries executed in 0.7 seconds'"
      ]
     },
     "execution_count": 752,
     "metadata": {},
     "output_type": "execute_result"
    }
   ],
   "source": [
    "## Saving current time for processing time management\n",
    "begintime=time.time()\n",
    "# Drop intermediate tables\n",
    "drop_intermediate_tables(db, cur, postclass_schema)\n",
    "# Print processing time\n",
    "print_processing_time(begintime, \"Function executed in \")"
   ]
  },
  {
   "cell_type": "code",
   "execution_count": 753,
   "metadata": {
    "collapsed": true
   },
   "outputs": [],
   "source": [
    "# Close cursor and communication with the database\n",
    "cur.close()\n",
    "db.close()"
   ]
  },
  {
   "cell_type": "markdown",
   "metadata": {},
   "source": [
    "# Postclassification using neighborhood information"
   ]
  },
  {
   "cell_type": "markdown",
   "metadata": {},
   "source": [
    "**Set label of different classes**"
   ]
  },
  {
   "cell_type": "code",
   "execution_count": 754,
   "metadata": {
    "collapsed": true
   },
   "outputs": [],
   "source": [
    "# Set the label of the 'Building' class\n",
    "building='11'\n",
    "# Set the label of the 'Asphalt' class\n",
    "asphalt='13'\n",
    "# Set the label of the 'Swimmingpools' class\n",
    "swimming='14'\n",
    "# Set the label of the 'baresoils' class\n",
    "baresoil='20'\n",
    "# Set the label of the 'lowvegetation' class\n",
    "lowveg='30'\n",
    "# Set the label of the 'Trees' class\n",
    "tree='31'\n",
    "# Set the label of the 'Water' class\n",
    "water='41'\n",
    "# Set the label of the 'Shadow' class\n",
    "shadow='51'"
   ]
  },
  {
   "cell_type": "code",
   "execution_count": 755,
   "metadata": {
    "collapsed": true
   },
   "outputs": [],
   "source": [
    "# Connect to an existing database\n",
    "db=pg.connect(database=dbname, user=dbuser, password=dbpassword, host=host)\n",
    "# Open a cursor to perform database operations\n",
    "cur=db.cursor()"
   ]
  },
  {
   "cell_type": "markdown",
   "metadata": {},
   "source": [
    "### Display average and stddev of several features for each label "
   ]
  },
  {
   "cell_type": "markdown",
   "metadata": {},
   "source": [
    "Those informations could be interesting to find differenciating factors between classes"
   ]
  },
  {
   "cell_type": "code",
   "execution_count": 756,
   "metadata": {},
   "outputs": [
    {
     "data": {
      "text/html": [
       "<div>\n",
       "<table border=\"1\" class=\"dataframe\">\n",
       "  <thead>\n",
       "    <tr style=\"text-align: right;\">\n",
       "      <th></th>\n",
       "      <th>label</th>\n",
       "      <th>avg_ndvi_mean</th>\n",
       "      <th>stddev_ndvi_mean</th>\n",
       "      <th>avg_ndsm_mean</th>\n",
       "      <th>stddev_ndsm_mean</th>\n",
       "      <th>avg_area</th>\n",
       "      <th>stddev_area</th>\n",
       "      <th>avg_compact_circle</th>\n",
       "      <th>stddev_compact_circle</th>\n",
       "    </tr>\n",
       "  </thead>\n",
       "  <tbody>\n",
       "    <tr>\n",
       "      <th>0</th>\n",
       "      <td>11</td>\n",
       "      <td>0.080859</td>\n",
       "      <td>0.053782</td>\n",
       "      <td>1.526471</td>\n",
       "      <td>1.248543</td>\n",
       "      <td>64.115755</td>\n",
       "      <td>101.009841</td>\n",
       "      <td>1.832645</td>\n",
       "      <td>0.451754</td>\n",
       "    </tr>\n",
       "    <tr>\n",
       "      <th>1</th>\n",
       "      <td>13</td>\n",
       "      <td>0.107234</td>\n",
       "      <td>0.078718</td>\n",
       "      <td>2.177867</td>\n",
       "      <td>1.367730</td>\n",
       "      <td>30.252747</td>\n",
       "      <td>25.570640</td>\n",
       "      <td>1.898231</td>\n",
       "      <td>0.350563</td>\n",
       "    </tr>\n",
       "    <tr>\n",
       "      <th>2</th>\n",
       "      <td>14</td>\n",
       "      <td>0.114503</td>\n",
       "      <td>0.031397</td>\n",
       "      <td>0.709314</td>\n",
       "      <td>0.610110</td>\n",
       "      <td>2043.000000</td>\n",
       "      <td>2494.978241</td>\n",
       "      <td>4.289632</td>\n",
       "      <td>1.541722</td>\n",
       "    </tr>\n",
       "    <tr>\n",
       "      <th>3</th>\n",
       "      <td>20</td>\n",
       "      <td>0.126443</td>\n",
       "      <td>0.027911</td>\n",
       "      <td>0.254958</td>\n",
       "      <td>0.329846</td>\n",
       "      <td>345.402522</td>\n",
       "      <td>2975.659800</td>\n",
       "      <td>2.226866</td>\n",
       "      <td>1.412324</td>\n",
       "    </tr>\n",
       "    <tr>\n",
       "      <th>4</th>\n",
       "      <td>30</td>\n",
       "      <td>0.286292</td>\n",
       "      <td>0.088956</td>\n",
       "      <td>0.340669</td>\n",
       "      <td>0.550062</td>\n",
       "      <td>202.395416</td>\n",
       "      <td>2171.152497</td>\n",
       "      <td>2.023226</td>\n",
       "      <td>0.844625</td>\n",
       "    </tr>\n",
       "    <tr>\n",
       "      <th>5</th>\n",
       "      <td>31</td>\n",
       "      <td>0.483371</td>\n",
       "      <td>0.074958</td>\n",
       "      <td>1.207626</td>\n",
       "      <td>1.166897</td>\n",
       "      <td>105.036236</td>\n",
       "      <td>978.284344</td>\n",
       "      <td>1.766044</td>\n",
       "      <td>0.601584</td>\n",
       "    </tr>\n",
       "    <tr>\n",
       "      <th>6</th>\n",
       "      <td>41</td>\n",
       "      <td>0.059931</td>\n",
       "      <td>0.070202</td>\n",
       "      <td>0.286365</td>\n",
       "      <td>0.466016</td>\n",
       "      <td>214.679914</td>\n",
       "      <td>1872.085008</td>\n",
       "      <td>2.059394</td>\n",
       "      <td>0.593573</td>\n",
       "    </tr>\n",
       "    <tr>\n",
       "      <th>7</th>\n",
       "      <td>51</td>\n",
       "      <td>0.249432</td>\n",
       "      <td>0.093871</td>\n",
       "      <td>1.317306</td>\n",
       "      <td>1.136427</td>\n",
       "      <td>35.555472</td>\n",
       "      <td>31.801912</td>\n",
       "      <td>2.061547</td>\n",
       "      <td>0.460235</td>\n",
       "    </tr>\n",
       "  </tbody>\n",
       "</table>\n",
       "</div>"
      ],
      "text/plain": [
       "   label  avg_ndvi_mean  stddev_ndvi_mean  avg_ndsm_mean  stddev_ndsm_mean  \\\n",
       "0     11       0.080859          0.053782       1.526471          1.248543   \n",
       "1     13       0.107234          0.078718       2.177867          1.367730   \n",
       "2     14       0.114503          0.031397       0.709314          0.610110   \n",
       "3     20       0.126443          0.027911       0.254958          0.329846   \n",
       "4     30       0.286292          0.088956       0.340669          0.550062   \n",
       "5     31       0.483371          0.074958       1.207626          1.166897   \n",
       "6     41       0.059931          0.070202       0.286365          0.466016   \n",
       "7     51       0.249432          0.093871       1.317306          1.136427   \n",
       "\n",
       "      avg_area  stddev_area  avg_compact_circle  stddev_compact_circle  \n",
       "0    64.115755   101.009841            1.832645               0.451754  \n",
       "1    30.252747    25.570640            1.898231               0.350563  \n",
       "2  2043.000000  2494.978241            4.289632               1.541722  \n",
       "3   345.402522  2975.659800            2.226866               1.412324  \n",
       "4   202.395416  2171.152497            2.023226               0.844625  \n",
       "5   105.036236   978.284344            1.766044               0.601584  \n",
       "6   214.679914  1872.085008            2.059394               0.593573  \n",
       "7    35.555472    31.801912            2.061547               0.460235  "
      ]
     },
     "execution_count": 756,
     "metadata": {},
     "output_type": "execute_result"
    }
   ],
   "source": [
    "# Query\n",
    "query=\"SELECT label, avg(ndvi_mean) AS avg_ndvi_mean, stddev(ndvi_mean) AS stddev_ndvi_mean, \\\n",
    "avg(ndsm_mean) AS avg_ndsm_mean, stddev(ndsm_mean) AS stddev_ndsm_mean, \\\n",
    "avg(area) AS avg_area, stddev(area) AS stddev_area, \\\n",
    "avg(compact_circle) AS avg_compact_circle, stddev(compact_circle) AS stddev_compact_circle \\\n",
    "FROM {schema}.pivot_final GROUP BY label ORDER BY label\".format(schema=postclass_schema)\n",
    "# Execute query through panda\n",
    "df=pd.read_sql(query, db)\n",
    "# Show dataframe\n",
    "df"
   ]
  },
  {
   "cell_type": "markdown",
   "metadata": {},
   "source": [
    "# Step 1 - Reclassifying 'Shadows'"
   ]
  },
  {
   "cell_type": "markdown",
   "metadata": {},
   "source": [
    "## Create a table for reclassification"
   ]
  },
  {
   "cell_type": "code",
   "execution_count": 757,
   "metadata": {
    "collapsed": true
   },
   "outputs": [],
   "source": [
    "# Connect to an existing database\n",
    "db=pg.connect(database=dbname, user=dbuser, password=dbpassword, host=host)\n",
    "# Open a cursor to perform database operations\n",
    "cur=db.cursor()"
   ]
  },
  {
   "cell_type": "code",
   "execution_count": 758,
   "metadata": {
    "scrolled": true
   },
   "outputs": [],
   "source": [
    "def create_postclassif_labels_table(db, cur, postclass_schema):\n",
    "    # Queries to exectue\n",
    "    queries=[]\n",
    "    queries.append(\"DROP TABLE IF EXISTS {schema}.postclassif_labels\".format(schema=postclass_schema))\n",
    "    queries.append(\"CREATE TABLE {schema}.postclassif_labels AS(\\\n",
    "    SELECT * FROM {schema}.pivot_final)\".format(schema=postclass_schema))\n",
    "    queries.append(\"ALTER TABLE {schema}.postclassif_labels ADD COLUMN reclass_label integer\".format(schema=postclass_schema))\n",
    "    # Execute the queries \n",
    "    cur.execute(\";\".join(queries))\n",
    "    # Make the changes to the database persistent\n",
    "    db.commit()  "
   ]
  },
  {
   "cell_type": "code",
   "execution_count": 759,
   "metadata": {
    "scrolled": true
   },
   "outputs": [
    {
     "data": {
      "text/plain": [
       "'Function executed in 1.5 seconds'"
      ]
     },
     "execution_count": 759,
     "metadata": {},
     "output_type": "execute_result"
    }
   ],
   "source": [
    "## Saving current time for processing time management\n",
    "begintime=time.time()\n",
    "## Create table for postclassification\n",
    "create_postclassif_labels_table(db, cur, postclass_schema)\n",
    "# Print processing time\n",
    "print_processing_time(begintime, \"Function executed in \")"
   ]
  },
  {
   "cell_type": "markdown",
   "metadata": {},
   "source": [
    "## Reclassification rules"
   ]
  },
  {
   "cell_type": "code",
   "execution_count": 760,
   "metadata": {},
   "outputs": [
    {
     "data": {
      "text/plain": [
       "'Queries executed in 1.1 seconds'"
      ]
     },
     "execution_count": 760,
     "metadata": {},
     "output_type": "execute_result"
    }
   ],
   "source": [
    "## Saving current time for processing time management\n",
    "begintime=time.time()\n",
    "\n",
    "# Shadows reclassification \n",
    "query=\"UPDATE {schema}.postclassif_labels \\\n",
    "SET reclass_label=(CASE \\\n",
    "WHEN ndvi_mean>0.30 THEN \\\n",
    "    CASE \\\n",
    "    WHEN ndsm_mean<1.5 THEN {lowveg} \\\n",
    "    ELSE {tree} \\\n",
    "    END \\\n",
    "ELSE {baresoil} \\\n",
    "END) \\\n",
    "WHERE label={shadow}\".format(schema=postclass_schema,shadow=shadow,\n",
    "                             lowveg=lowveg,tree=tree,baresoil=baresoil)\n",
    "\n",
    "# Execute the queries \n",
    "cur.execute(query)\n",
    "# Make the changes to the database persistent\n",
    "db.commit()  \n",
    "\n",
    "# Print processing time\n",
    "print_processing_time(begintime, \"Queries executed in \")"
   ]
  },
  {
   "cell_type": "markdown",
   "metadata": {},
   "source": [
    "## Attribute current label to segment which didn't get reclassified"
   ]
  },
  {
   "cell_type": "code",
   "execution_count": 761,
   "metadata": {
    "scrolled": true
   },
   "outputs": [],
   "source": [
    "def fill_nonupdated_labels(db, cur, postclass_schema):\n",
    "    # For segments which have not been reclassified yet, attribute their original label (no reclassification)\n",
    "    query=\"UPDATE {schema}.postclassif_labels \\\n",
    "    SET reclass_label=label \\\n",
    "    WHERE reclass_label IS NULL\".format(schema=postclass_schema)\n",
    "    # Execute the queries \n",
    "    cur.execute(query)\n",
    "    # Make the changes to the database persistent\n",
    "    db.commit()"
   ]
  },
  {
   "cell_type": "code",
   "execution_count": 762,
   "metadata": {
    "scrolled": true
   },
   "outputs": [
    {
     "data": {
      "text/plain": [
       "'Queries executed in 1.6 seconds'"
      ]
     },
     "execution_count": 762,
     "metadata": {},
     "output_type": "execute_result"
    }
   ],
   "source": [
    "## Saving current time for processing time management\n",
    "begintime=time.time()\n",
    "## Fill non updated labels with original label\n",
    "fill_nonupdated_labels(db, cur, postclass_schema)\n",
    "# Print processing time\n",
    "print_processing_time(begintime, \"Queries executed in \")"
   ]
  },
  {
   "cell_type": "markdown",
   "metadata": {},
   "source": [
    "## Update the segment labels (seglabel table) with the updated values"
   ]
  },
  {
   "cell_type": "code",
   "execution_count": 763,
   "metadata": {},
   "outputs": [],
   "source": [
    "def update_seglabel_with_postclassif_labels(db, cur, postclass_schema):\n",
    "    ## Saving current time for processing time management\n",
    "    begintime=time.time()\n",
    "    # Queries to exectue\n",
    "    queries=[]\n",
    "    queries.append(\"DROP TABLE IF EXISTS {schema}.seglabel\".format(schema=postclass_schema))\n",
    "    queries.append(\"CREATE TABLE {schema}.seglabel AS(\\\n",
    "    SELECT seg, reclass_label AS label FROM {schema}.postclassif_labels)\".format(schema=postclass_schema))\n",
    "    # Execute the queries \n",
    "    cur.execute(\";\".join(queries))\n",
    "    # Make the changes to the database persistent\n",
    "    db.commit()\n",
    "    # Print processing time\n",
    "    print print_processing_time(begintime, \"Table <seglabel> updated with new values in \")"
   ]
  },
  {
   "cell_type": "code",
   "execution_count": 762,
   "metadata": {
    "scrolled": true
   },
   "outputs": [
    {
     "data": {
      "text/plain": [
       "'Queries executed in 1.6 seconds'"
      ]
     },
     "execution_count": 762,
     "metadata": {},
     "output_type": "execute_result"
    }
   ],
   "source": [
    "## Saving current time for processing time management\n",
    "begintime=time.time()\n",
    "## Update the labels with new labels\n",
    "update_seglabel_with_postclassif_labels(db, cur, postclass_schema)\n",
    "# Print processing time\n",
    "print_processing_time(begintime, \"Queries executed in \")"
   ]
  },
  {
   "cell_type": "markdown",
   "metadata": {},
   "source": [
    "## Reclassify raster in GRASS GIS"
   ]
  },
  {
   "cell_type": "markdown",
   "metadata": {},
   "source": [
    "**Define color rules**"
   ]
  },
  {
   "cell_type": "code",
   "execution_count": 767,
   "metadata": {},
   "outputs": [],
   "source": [
    "# Define color table. Replace with the RGB values of wanted colors of each class\n",
    "color_rule=\"11  227:26:28\"+\"\\n\"\n",
    "color_rule+=\"13  94:221:227\"+\"\\n\"\n",
    "color_rule+=\"14  102:102:102\"+\"\\n\"\n",
    "color_rule+=\"20  211:217:173\"+\"\\n\"\n",
    "color_rule+=\"30  29:220:0\"+\"\\n\"\n",
    "color_rule+=\"31  0:128:0\"+\"\\n\"\n",
    "color_rule+=\"41  30:30:192\"+\"\\n\"\n",
    "color_rule+=\"51  0:0:0\"+\"\\n\"\n",
    "\n",
    "## Create a temporary 'color_table.txt' file\n",
    "global color_table  # Should be global to be called in function\n",
    "color_table=gscript.tempfile()+\"color_table\" # Define the csv output file name\n",
    "f = open(color_table, 'w')\n",
    "f.write(color_rule)\n",
    "f.close()"
   ]
  },
  {
   "cell_type": "code",
   "execution_count": 768,
   "metadata": {
    "collapsed": true
   },
   "outputs": [],
   "source": [
    "# Connect to an existing database\n",
    "db=pg.connect(database=dbname, user=dbuser, password=dbpassword, host=host)\n",
    "# Open a cursor to perform database operations\n",
    "cur=db.cursor()"
   ]
  },
  {
   "cell_type": "code",
   "execution_count": 769,
   "metadata": {},
   "outputs": [],
   "source": [
    "def update_seglabel_with_postclassif_labels(db, cur, postclass_schema, postclassif_map):\n",
    "    #### Save 'seg_id' and the corresponding label for in a list\n",
    "    query=\"SELECT seg AS seg_id, reclass_label  FROM %s.postclassif_labels\"%postclass_schema\n",
    "    df=pd.read_sql(query, db)\n",
    "    # Save seg_id of objects in a list\n",
    "    listsegid=list(df['seg_id'])\n",
    "    # Save predictions at level_2 in a list\n",
    "    listpredict=list(df['reclass_label'])\n",
    "    if len(listsegid) <> len(listpredict):\n",
    "        sys.exit('WARNING: lenght of lists containing segid and prediction are not the same. Please check before continue')\n",
    "    else:\n",
    "        nrows=len(listsegid)\n",
    "        print \"Start reclassifying %s segment\"%nrows\n",
    "    \n",
    "    ##### Reclassify raster\n",
    "    ## Create a temporary 'reclass_rule' file\n",
    "    temprulecsv=gscript.tempfile()+\"_reclass_rules\" # Define the csv output file name\n",
    "    f = open(temprulecsv, 'w')\n",
    "    # Write rules in the csv file\n",
    "    [f.write(\"%s=%s\\n\"%(listsegid[i],listpredict[i])) for i in range(0,nrows-1)]\n",
    "    f.write(\"*\")\n",
    "    f.write(\"=\")\n",
    "    f.write(\"NULL\")\n",
    "    f.close()\n",
    "    print \"Reclass rule file created\"\n",
    "    \n",
    "    ## Reclass segments raster layer\n",
    "    gscript.run_command('g.region', overwrite=True, raster=segment_layer)\n",
    "    gscript.run_command('r.reclass', overwrite=True, input=segment_layer, \n",
    "                      output=postclassif_map, rules=temprulecsv)\n",
    "    os.remove(temprulecsv)\n",
    "    print \"Temporary reclassified map created\"\n",
    "\n",
    "    #### Making hard copy of the reclassified map\n",
    "    # Create the same raster with r.mapcalc\n",
    "    formula=\"{mapname}_temp={mapname}\".format(mapname=postclassif_map)\n",
    "    gscript.mapcalc(formula, overwrite=True)\n",
    "    # Rename the new raster with the name of the original one (will be overwrited)\n",
    "    renameformula=\"{mapname}_temp,{mapname}\".format(mapname=postclassif_map)\n",
    "    gscript.run_command('g.rename', overwrite=True, raster=renameformula)\n",
    "    print \"'Hard copy' of the reclassified map created\"\n",
    "    ## Apply the new color table\n",
    "    gscript.run_command('r.colors', map=postclassif_map, rules=color_table)\n",
    "    print \"Color scheme applyied to the reclassified map\""
   ]
  },
  {
   "cell_type": "code",
   "execution_count": 770,
   "metadata": {},
   "outputs": [
    {
     "name": "stdout",
     "output_type": "stream",
     "text": [
      "Start reclassifying 138665 segment\n",
      "Reclass rule file created\n",
      "Temporary reclassified map created\n",
      "'Hard copy' of the reclassified map created\n",
      "Color scheme applyied to the reclassified map\n"
     ]
    },
    {
     "data": {
      "text/plain": [
       "'Reclassified map created in 3.3 seconds'"
      ]
     },
     "execution_count": 770,
     "metadata": {},
     "output_type": "execute_result"
    }
   ],
   "source": [
    "## Saving current time for processing time management\n",
    "begintime=time.time()\n",
    "## Reclassify the segmentation raster\n",
    "update_seglabel_with_postclassif_labels(db, cur, postclass_schema, \"postclassif_map_1_shadow\")\n",
    "# Print processing time\n",
    "print_processing_time(begintime, \"Reclassified map created in \")"
   ]
  },
  {
   "cell_type": "code",
   "execution_count": null,
   "metadata": {
    "collapsed": true
   },
   "outputs": [],
   "source": []
  },
  {
   "cell_type": "code",
   "execution_count": null,
   "metadata": {
    "collapsed": true
   },
   "outputs": [],
   "source": []
  },
  {
   "cell_type": "code",
   "execution_count": null,
   "metadata": {
    "collapsed": true
   },
   "outputs": [],
   "source": []
  },
  {
   "cell_type": "code",
   "execution_count": null,
   "metadata": {
    "collapsed": true
   },
   "outputs": [],
   "source": []
  },
  {
   "cell_type": "code",
   "execution_count": null,
   "metadata": {
    "collapsed": true
   },
   "outputs": [],
   "source": []
  },
  {
   "cell_type": "code",
   "execution_count": null,
   "metadata": {
    "collapsed": true
   },
   "outputs": [],
   "source": []
  },
  {
   "cell_type": "code",
   "execution_count": null,
   "metadata": {
    "collapsed": true
   },
   "outputs": [],
   "source": []
  },
  {
   "cell_type": "markdown",
   "metadata": {},
   "source": [
    "## Reclassifying 'Buildings' false-positive"
   ]
  },
  {
   "cell_type": "markdown",
   "metadata": {},
   "source": [
    "Buildings false positives: segment classified as buildings which in fact are not buildings"
   ]
  },
  {
   "cell_type": "code",
   "execution_count": 621,
   "metadata": {},
   "outputs": [
    {
     "data": {
      "text/plain": [
       "'Queries executed in 0.1 seconds'"
      ]
     },
     "execution_count": 621,
     "metadata": {},
     "output_type": "execute_result"
    }
   ],
   "source": [
    "## Saving current time for processing time management\n",
    "begintime=time.time()\n",
    "\n",
    "# Query  \n",
    "query=\"UPDATE {schema}.postclassif_labels \\\n",
    "SET reclass_label=(CASE \\\n",
    "WHEN area<25 THEN \\\n",
    "    CASE \\\n",
    "    WHEN first_label!={shadow} THEN first_label \\\n",
    "    ELSE \\\n",
    "        CASE \\\n",
    "        WHEN second_label IS NOT NULL AND second_label!={shadow} THEN second_label\\\n",
    "        ELSE {baresoil}\\\n",
    "        END \\\n",
    "    END \\\n",
    "ELSE \\\n",
    "    CASE \\\n",
    "    WHEN prop_{shadow}=0 AND ndvi_mean>0.2 THEN first_label \\\n",
    "    END \\\n",
    "END) \\\n",
    "WHERE label={building} AND prop_{building}=0\".format(schema=postclass_schema,building=building,\n",
    "                                                     shadow=shadow,baresoil=baresoil)\n",
    "\n",
    "# Execute the queries \n",
    "cur.execute(query)\n",
    "# Make the changes to the database persistent\n",
    "db.commit()  \n",
    "\n",
    "# Print processing time\n",
    "print_processing_time(begintime, \"Queries executed in \")"
   ]
  },
  {
   "cell_type": "markdown",
   "metadata": {},
   "source": [
    "### Reclassifying 'Water' false-positive"
   ]
  },
  {
   "cell_type": "code",
   "execution_count": 622,
   "metadata": {},
   "outputs": [
    {
     "data": {
      "text/plain": [
       "'Queries executed in 0.0 seconds'"
      ]
     },
     "execution_count": 622,
     "metadata": {},
     "output_type": "execute_result"
    }
   ],
   "source": [
    "## Saving current time for processing time management\n",
    "begintime=time.time()\n",
    "\n",
    "# Query  \n",
    "query=\"UPDATE {schema}.postclassif_labels \\\n",
    "SET reclass_label=(\\\n",
    "CASE \\\n",
    "WHEN first_label NOT IN ({building},{water},{shadow}) THEN first_label \\\n",
    "ELSE \\\n",
    "    CASE \\\n",
    "    WHEN second_label IS NOT NULL THEN second_label\\\n",
    "    ELSE \\\n",
    "        CASE \\\n",
    "        WHEN ndvi_mean <=0 THEN {building} \\\n",
    "        WHEN ndvi_mean >0 AND ndvi_mean <=0.3 THEN {baresoil} \\\n",
    "        WHEN ndvi_mean >0.3 THEN {lowveg} \\\n",
    "        END\\\n",
    "    END \\\n",
    "END) \\\n",
    "WHERE label={water} AND (\\\n",
    "                        area<=300 AND prop_{water}=0 \\\n",
    "                        OR \\\n",
    "                        area<50 AND prop_{building}>0)\".format(schema=postclass_schema,building=building,shadow=shadow\n",
    "                                                             baresoil=baresoil,lowveg=lowveg,water=water)\n",
    "\n",
    "# Execute the queries \n",
    "cur.execute(query)\n",
    "# Make the changes to the database persistent\n",
    "db.commit()  \n",
    "\n",
    "# Print processing time\n",
    "print_processing_time(begintime, \"Queries executed in \")"
   ]
  },
  {
   "cell_type": "markdown",
   "metadata": {},
   "source": [
    "### Reclassifying 'Buildings' false-positive large segment surrounding water"
   ]
  },
  {
   "cell_type": "code",
   "execution_count": null,
   "metadata": {
    "collapsed": true
   },
   "outputs": [],
   "source": [
    "\"label\" = 11 AND \"prop_41\"   > 0"
   ]
  },
  {
   "cell_type": "markdown",
   "metadata": {},
   "source": [
    "### Split 'Building' class between 'Low elevated buildings' and 'High elevated buildings'"
   ]
  },
  {
   "cell_type": "markdown",
   "metadata": {},
   "source": [
    "### Attribute current label to segment which didn't get reclassified"
   ]
  },
  {
   "cell_type": "code",
   "execution_count": null,
   "metadata": {
    "collapsed": true
   },
   "outputs": [],
   "source": [
    "\"label\" = 11 AND \"ndsm_mean\"  > 3"
   ]
  },
  {
   "cell_type": "code",
   "execution_count": 623,
   "metadata": {
    "scrolled": true
   },
   "outputs": [
    {
     "data": {
      "text/plain": [
       "'Queries executed in 0.9 seconds'"
      ]
     },
     "execution_count": 623,
     "metadata": {},
     "output_type": "execute_result"
    }
   ],
   "source": [
    "## Saving current time for processing time management\n",
    "begintime=time.time()\n",
    "\n",
    "# For segments which have not been reclassified yet, attribute their original label (no reclassification)\n",
    "query=\"UPDATE {schema}.postclassif_labels \\\n",
    "SET reclass_label=label \\\n",
    "WHERE reclass_label IS NULL\".format(schema=postclass_schema)\n",
    "\n",
    "# Execute the queries \n",
    "cur.execute(query)\n",
    "# Make the changes to the database persistent\n",
    "db.commit()  \n",
    "\n",
    "# Print processing time\n",
    "print_processing_time(begintime, \"Queries executed in \")"
   ]
  },
  {
   "cell_type": "code",
   "execution_count": 624,
   "metadata": {
    "collapsed": true
   },
   "outputs": [],
   "source": [
    "# Close cursor and communication with the database\n",
    "cur.close()\n",
    "db.close()"
   ]
  },
  {
   "cell_type": "markdown",
   "metadata": {},
   "source": [
    "# Reclassify the segmentation raster to get the new map"
   ]
  },
  {
   "cell_type": "markdown",
   "metadata": {
    "collapsed": true
   },
   "source": []
  },
  {
   "cell_type": "markdown",
   "metadata": {},
   "source": [
    "## Create difference map to highlight changes"
   ]
  },
  {
   "cell_type": "markdown",
   "metadata": {},
   "source": [
    "**For Shadow class**"
   ]
  },
  {
   "cell_type": "code",
   "execution_count": null,
   "metadata": {
    "collapsed": true
   },
   "outputs": [],
   "source": []
  },
  {
   "cell_type": "code",
   "execution_count": null,
   "metadata": {
    "collapsed": true
   },
   "outputs": [],
   "source": []
  },
  {
   "cell_type": "code",
   "execution_count": null,
   "metadata": {
    "collapsed": true
   },
   "outputs": [],
   "source": []
  },
  {
   "cell_type": "code",
   "execution_count": null,
   "metadata": {
    "collapsed": true
   },
   "outputs": [],
   "source": []
  },
  {
   "cell_type": "code",
   "execution_count": null,
   "metadata": {
    "collapsed": true
   },
   "outputs": [],
   "source": []
  },
  {
   "cell_type": "code",
   "execution_count": null,
   "metadata": {
    "collapsed": true
   },
   "outputs": [],
   "source": []
  },
  {
   "cell_type": "code",
   "execution_count": null,
   "metadata": {
    "collapsed": true
   },
   "outputs": [],
   "source": []
  },
  {
   "cell_type": "code",
   "execution_count": null,
   "metadata": {
    "collapsed": true
   },
   "outputs": [],
   "source": []
  },
  {
   "cell_type": "code",
   "execution_count": null,
   "metadata": {
    "collapsed": true
   },
   "outputs": [],
   "source": []
  },
  {
   "cell_type": "code",
   "execution_count": null,
   "metadata": {
    "collapsed": true
   },
   "outputs": [],
   "source": []
  },
  {
   "cell_type": "code",
   "execution_count": null,
   "metadata": {
    "collapsed": true
   },
   "outputs": [],
   "source": []
  },
  {
   "cell_type": "code",
   "execution_count": 591,
   "metadata": {},
   "outputs": [
    {
     "ename": "SyntaxError",
     "evalue": "invalid syntax (<ipython-input-591-0dce4a103ed8>, line 1)",
     "output_type": "error",
     "traceback": [
      "\u001b[0;36m  File \u001b[0;32m\"<ipython-input-591-0dce4a103ed8>\"\u001b[0;36m, line \u001b[0;32m1\u001b[0m\n\u001b[0;31m    \"label\" = 41  AND \"area\" <= 500  AND  \"prop_41\" = 0\u001b[0m\n\u001b[0m                    ^\u001b[0m\n\u001b[0;31mSyntaxError\u001b[0m\u001b[0;31m:\u001b[0m invalid syntax\n"
     ]
    }
   ],
   "source": [
    "\"label\" = 41  AND \"area\" <= 500  AND  \"prop_41\" = 0"
   ]
  },
  {
   "cell_type": "code",
   "execution_count": 629,
   "metadata": {},
   "outputs": [],
   "source": [
    "# Create difference map between two classified raster\n",
    "class_value=shadow\n",
    "formula=\"diff_{class_value}=if({map1}=={class_value} && {map2}!={class_value},1,0)\".format(class_value=class_value,\n",
    "                                                                                     map1=classification_layer,\n",
    "                                                                                     map2=postclassif_map)\n",
    "gscript.mapcalc(formula, overwrite=True)"
   ]
  },
  {
   "cell_type": "markdown",
   "metadata": {},
   "source": [
    "**For buildings class**"
   ]
  },
  {
   "cell_type": "code",
   "execution_count": 630,
   "metadata": {
    "collapsed": true
   },
   "outputs": [],
   "source": [
    "# Create difference map between two classified raster\n",
    "class_value=building\n",
    "formula=\"diff_{class_value}=if({map1}=={class_value} && {map2}!={class_value},1,0)\".format(class_value=class_value,\n",
    "                                                                                     map1=classification_layer,\n",
    "                                                                                     map2=postclassif_map)\n",
    "gscript.mapcalc(formula, overwrite=True)"
   ]
  },
  {
   "cell_type": "markdown",
   "metadata": {},
   "source": [
    "### Attribute current label to segment which didn't get reclassified"
   ]
  },
  {
   "cell_type": "code",
   "execution_count": 623,
   "metadata": {
    "scrolled": true
   },
   "outputs": [
    {
     "data": {
      "text/plain": [
       "'Queries executed in 0.9 seconds'"
      ]
     },
     "execution_count": 623,
     "metadata": {},
     "output_type": "execute_result"
    }
   ],
   "source": [
    "## Saving current time for processing time management\n",
    "begintime=time.time()\n",
    "\n",
    "# For segments which have not been reclassified yet, attribute their original label (no reclassification)\n",
    "query=\"UPDATE {schema}.postclassif_labels \\\n",
    "SET reclass_label=label \\\n",
    "WHERE reclass_label IS NULL\".format(schema=postclass_schema)\n",
    "\n",
    "# Execute the queries \n",
    "cur.execute(query)\n",
    "# Make the changes to the database persistent\n",
    "db.commit()  \n",
    "\n",
    "# Print processing time\n",
    "print_processing_time(begintime, \"Queries executed in \")"
   ]
  },
  {
   "cell_type": "markdown",
   "metadata": {},
   "source": [
    "**For buildings class**"
   ]
  },
  {
   "cell_type": "code",
   "execution_count": 631,
   "metadata": {},
   "outputs": [],
   "source": [
    "# Create difference map between two classified raster\n",
    "class_value=water\n",
    "formula=\"diff_{class_value}=if({map1}=={class_value} && {map2}!={class_value},1,0)\".format(class_value=class_value,\n",
    "                                                                                     map1=classification_layer,\n",
    "                                                                                     map2=postclassif_map)\n",
    "gscript.mapcalc(formula, overwrite=True)"
   ]
  },
  {
   "cell_type": "code",
   "execution_count": null,
   "metadata": {
    "collapsed": true
   },
   "outputs": [],
   "source": []
  },
  {
   "cell_type": "code",
   "execution_count": null,
   "metadata": {
    "collapsed": true
   },
   "outputs": [],
   "source": []
  },
  {
   "cell_type": "code",
   "execution_count": 237,
   "metadata": {
    "collapsed": true
   },
   "outputs": [],
   "source": [
    "# Close cursor and communication with the database\n",
    "cur.close()\n",
    "db.close()"
   ]
  },
  {
   "cell_type": "markdown",
   "metadata": {},
   "source": [
    "## Import geometry of segments from GRASS into PostGIS"
   ]
  },
  {
   "cell_type": "markdown",
   "metadata": {},
   "source": [
    "Run the following cell only if you want to import the geometry of segments in PostGIS. Please notice it could be very time-consuming ! Please set up a limited computational region to be sure the number of object is not more than 10.000 !"
   ]
  },
  {
   "cell_type": "code",
   "execution_count": 566,
   "metadata": {
    "collapsed": true
   },
   "outputs": [],
   "source": [
    "# Define a maximum number of segment to be exported\n",
    "maxnumber=250000"
   ]
  },
  {
   "cell_type": "code",
   "execution_count": 568,
   "metadata": {},
   "outputs": [
    {
     "name": "stdout",
     "output_type": "stream",
     "text": [
      "138665\n"
     ]
    }
   ],
   "source": [
    "# Check how many segments are in the current computational region\n",
    "id_list=gscript.read_command('r.describe', flags='n1d', map=segment_layer).split(\"\\n\")[:-1]\n",
    "print len(id_list)"
   ]
  },
  {
   "cell_type": "code",
   "execution_count": 569,
   "metadata": {
    "scrolled": true
   },
   "outputs": [
    {
     "name": "stdout",
     "output_type": "stream",
     "text": [
      "Going to import 138665 segments in <ouaga_fullaoi_localsegment> PostGis database\n",
      "Segmentation raster converted in vector layer in 52.2 seconds\n",
      "Geometry of segments imported in PostGIS in 13.1 seconds\n",
      "Total time for import : 1 minutes and 5.4 seconds\n"
     ]
    }
   ],
   "source": [
    "# Get a list with segment id\n",
    "id_list=gscript.read_command('r.describe', flags='n1d', map=segment_layer).split(\"\\n\")[:-1]\n",
    "\n",
    "# Export in PostGIS if limited number of segments\n",
    "if len(id_list)<maxnumber:\n",
    "    print \"Going to import %s segments in <%s> PostGis database\"%(len(id_list),dbname)\n",
    "    begintime_1=time.time()\n",
    "    # Convert raster to vector (no attribute table created to make it faster)\n",
    "    gscript.run_command('r.to.vect', overwrite=True, flags='vt', \n",
    "                        input=segment_layer, output='segment_geom', type='area')\n",
    "    print print_processing_time(begintime_1, \"Segmentation raster converted in vector layer in \")\n",
    "    # Export vector geometry to Postgis -Use flag -a to append to existing table\n",
    "    begintime_2=time.time()\n",
    "    gscript.run_command('v.out.ogr', overwrite=True, flags='m', input='segment_geom',\n",
    "                        output=\"PG:dbname=%s\"%dbname, output_layer=\"%s.segment_geom\"%postclass_schema, \n",
    "                       format=\"PostgreSQL\")    \n",
    "    print print_processing_time(begintime_2, \"Geometry of segments imported in PostGIS in \")\n",
    "    # Remove the vector layer\n",
    "    gscript.run_command('g.remove', flags='f', type='vector', name='segment_geom@%s'%gscript.gisenv()['MAPSET'])\n",
    "    # Print total processing time\n",
    "    print print_processing_time(begintime_1, \"Total time for import : \")\n",
    "\n",
    "else:\n",
    "    print \"Number of segments (%s) too important in the current computational region\"%len(id_list)"
   ]
  },
  {
   "cell_type": "code",
   "execution_count": 570,
   "metadata": {
    "collapsed": true
   },
   "outputs": [],
   "source": [
    "# Connect to an existing database\n",
    "db=pg.connect(database=dbname, user=dbuser, password=dbpassword, host=host)\n",
    "# Open a cursor to perform database operations\n",
    "cur=db.cursor()"
   ]
  },
  {
   "cell_type": "code",
   "execution_count": 571,
   "metadata": {
    "collapsed": true
   },
   "outputs": [],
   "source": [
    "#### Join the segment geometry to the postclassification labels\n",
    "# Queries to exectue\n",
    "queries=[]\n",
    "queries.append(\"DROP TABLE IF EXISTS {schema}.segment_reclass\".format(schema=postclass_schema))\n",
    "queries.append(\"CREATE TABLE {schema}.segment_reclass AS(\\\n",
    "SELECT cat AS seg_id, wkb_geometry AS the_geom, b.* \\\n",
    "FROM {schema}.segment_geom AS a LEFT JOIN {schema}.postclassif_labels AS b \\\n",
    "ON a.cat=b.seg)\".format(schema=postclass_schema))\n",
    "queries.append(\"ALTER TABLE {schema}.segment_reclass DROP COLUMN seg\".format(schema=postclass_schema))\n",
    "queries.append(\"ALTER TABLE {schema}.segment_reclass DROP CONSTRAINT IF EXISTS segment_reclass_pkey\".format(schema=postclass_schema))\n",
    "queries.append(\"ALTER TABLE {schema}.segment_reclass ADD PRIMARY KEY (seg_id)\".format(schema=postclass_schema))\n",
    "\n",
    "# Execute the queries \n",
    "cur.execute(\";\".join(queries))\n",
    "# Make the changes to the database persistent\n",
    "db.commit()"
   ]
  },
  {
   "cell_type": "code",
   "execution_count": 572,
   "metadata": {
    "collapsed": true
   },
   "outputs": [],
   "source": [
    "# Close cursor and communication with the database\n",
    "cur.close()\n",
    "db.close()"
   ]
  },
  {
   "cell_type": "markdown",
   "metadata": {},
   "source": [
    "**-_-_-_-_-_-_-_-_-_-_-_-_-_-_-_-_-_-_-_-_-_-_-_-_-_-_-_-_-_-_-_-_-_-_-_-_-_-_-_-_-_-_-_-_-_-_-_-_-_-_-_-_-_-_-_-_-_-_-_-_-**"
   ]
  },
  {
   "cell_type": "code",
   "execution_count": null,
   "metadata": {
    "collapsed": true
   },
   "outputs": [],
   "source": []
  },
  {
   "cell_type": "code",
   "execution_count": null,
   "metadata": {
    "collapsed": true
   },
   "outputs": [],
   "source": []
  },
  {
   "cell_type": "markdown",
   "metadata": {},
   "source": [
    "## Import geometry of segments from GRASS into PostGIS"
   ]
  },
  {
   "cell_type": "markdown",
   "metadata": {},
   "source": [
    "Run the following cell only if you want to import the geometry of segments in PostGIS. Please notice it could be very time-consuming ! Please set up a limited computational region to be sure the number of object is not more than 10.000 !"
   ]
  },
  {
   "cell_type": "code",
   "execution_count": 632,
   "metadata": {
    "collapsed": true
   },
   "outputs": [],
   "source": [
    "# Define a maximum number of segment to be exported\n",
    "maxnumber=250000"
   ]
  },
  {
   "cell_type": "code",
   "execution_count": 633,
   "metadata": {},
   "outputs": [
    {
     "name": "stdout",
     "output_type": "stream",
     "text": [
      "138665\n"
     ]
    }
   ],
   "source": [
    "# Check how many segments are in the current computational region\n",
    "id_list=gscript.read_command('r.describe', flags='n1d', map=segment_layer).split(\"\\n\")[:-1]\n",
    "print len(id_list)"
   ]
  },
  {
   "cell_type": "code",
   "execution_count": 634,
   "metadata": {
    "scrolled": true
   },
   "outputs": [
    {
     "name": "stdout",
     "output_type": "stream",
     "text": [
      "Going to import 138665 segments in <ouaga_fullaoi_localsegment> PostGis database\n",
      "Segmentation raster converted in vector layer in 51.6 seconds\n",
      "Geometry of segments imported in PostGIS in 14.1 seconds\n",
      "Total time for import : 1 minutes and 5.7 seconds\n"
     ]
    }
   ],
   "source": [
    "# Get a list with segment id\n",
    "id_list=gscript.read_command('r.describe', flags='n1d', map=segment_layer).split(\"\\n\")[:-1]\n",
    "\n",
    "# Export in PostGIS if limited number of segments\n",
    "if len(id_list)<maxnumber:\n",
    "    print \"Going to import %s segments in <%s> PostGis database\"%(len(id_list),dbname)\n",
    "    begintime_1=time.time()\n",
    "    # Convert raster to vector (no attribute table created to make it faster)\n",
    "    gscript.run_command('r.to.vect', overwrite=True, flags='vt', \n",
    "                        input=segment_layer, output='segment_geom', type='area')\n",
    "    print print_processing_time(begintime_1, \"Segmentation raster converted in vector layer in \")\n",
    "    # Export vector geometry to Postgis -Use flag -a to append to existing table\n",
    "    begintime_2=time.time()\n",
    "    gscript.run_command('v.out.ogr', overwrite=True, flags='m', input='segment_geom',\n",
    "                        output=\"PG:dbname=%s\"%dbname, output_layer=\"%s.segment_geom\"%postclass_schema, \n",
    "                       format=\"PostgreSQL\")    \n",
    "    print print_processing_time(begintime_2, \"Geometry of segments imported in PostGIS in \")\n",
    "    # Remove the vector layer\n",
    "    gscript.run_command('g.remove', flags='f', type='vector', name='segment_geom@%s'%gscript.gisenv()['MAPSET'])\n",
    "    # Print total processing time\n",
    "    print print_processing_time(begintime_1, \"Total time for import : \")\n",
    "\n",
    "else:\n",
    "    print \"Number of segments (%s) too important in the current computational region\"%len(id_list)"
   ]
  },
  {
   "cell_type": "code",
   "execution_count": 635,
   "metadata": {
    "collapsed": true
   },
   "outputs": [],
   "source": [
    "# Connect to an existing database\n",
    "db=pg.connect(database=dbname, user=dbuser, password=dbpassword, host=host)\n",
    "# Open a cursor to perform database operations\n",
    "cur=db.cursor()"
   ]
  },
  {
   "cell_type": "code",
   "execution_count": 636,
   "metadata": {
    "collapsed": true
   },
   "outputs": [],
   "source": [
    "#### Join the segment geometry to the postclassification labels\n",
    "# Queries to exectue\n",
    "queries=[]\n",
    "queries.append(\"DROP TABLE IF EXISTS {schema}.segment_reclass\".format(schema=postclass_schema))\n",
    "queries.append(\"CREATE TABLE {schema}.segment_reclass AS(\\\n",
    "SELECT cat AS seg_id, wkb_geometry AS the_geom, b.* \\\n",
    "FROM {schema}.segment_geom AS a LEFT JOIN {schema}.postclassif_labels AS b \\\n",
    "ON a.cat=b.seg)\".format(schema=postclass_schema))\n",
    "queries.append(\"ALTER TABLE {schema}.segment_reclass DROP COLUMN seg\".format(schema=postclass_schema))\n",
    "queries.append(\"ALTER TABLE {schema}.segment_reclass DROP CONSTRAINT IF EXISTS segment_reclass_pkey\".format(schema=postclass_schema))\n",
    "queries.append(\"ALTER TABLE {schema}.segment_reclass ADD PRIMARY KEY (seg_id)\".format(schema=postclass_schema))\n",
    "\n",
    "# Execute the queries \n",
    "cur.execute(\";\".join(queries))\n",
    "# Make the changes to the database persistent\n",
    "db.commit()"
   ]
  },
  {
   "cell_type": "code",
   "execution_count": 637,
   "metadata": {
    "collapsed": true
   },
   "outputs": [],
   "source": [
    "# Close cursor and communication with the database\n",
    "cur.close()\n",
    "db.close()"
   ]
  },
  {
   "cell_type": "code",
   "execution_count": null,
   "metadata": {
    "collapsed": true
   },
   "outputs": [],
   "source": []
  },
  {
   "cell_type": "code",
   "execution_count": null,
   "metadata": {
    "collapsed": true
   },
   "outputs": [],
   "source": []
  },
  {
   "cell_type": "markdown",
   "metadata": {},
   "source": [
    "<left> <font size=4> <b> End of postclassification </b> </font> </left> "
   ]
  },
  {
   "cell_type": "code",
   "execution_count": null,
   "metadata": {
    "collapsed": true
   },
   "outputs": [],
   "source": []
  },
  {
   "cell_type": "code",
   "execution_count": null,
   "metadata": {
    "collapsed": true
   },
   "outputs": [],
   "source": []
  },
  {
   "cell_type": "code",
   "execution_count": null,
   "metadata": {
    "collapsed": true
   },
   "outputs": [],
   "source": []
  },
  {
   "cell_type": "code",
   "execution_count": null,
   "metadata": {
    "collapsed": true
   },
   "outputs": [],
   "source": []
  },
  {
   "cell_type": "code",
   "execution_count": null,
   "metadata": {
    "collapsed": true
   },
   "outputs": [],
   "source": []
  },
  {
   "cell_type": "code",
   "execution_count": null,
   "metadata": {
    "collapsed": true,
    "scrolled": true
   },
   "outputs": [],
   "source": [
    "print(\"The script ends at \"+ time.ctime())\n",
    "print_processing_time(begintime_segmentation_full, \"Entire process has been achieved in \")"
   ]
  },
  {
   "cell_type": "code",
   "execution_count": null,
   "metadata": {
    "collapsed": true
   },
   "outputs": [],
   "source": []
  },
  {
   "cell_type": "code",
   "execution_count": null,
   "metadata": {
    "collapsed": true
   },
   "outputs": [],
   "source": []
  },
  {
   "cell_type": "code",
   "execution_count": null,
   "metadata": {
    "collapsed": true
   },
   "outputs": [],
   "source": []
  },
  {
   "cell_type": "code",
   "execution_count": null,
   "metadata": {
    "collapsed": true
   },
   "outputs": [],
   "source": []
  },
  {
   "cell_type": "code",
   "execution_count": null,
   "metadata": {
    "collapsed": true
   },
   "outputs": [],
   "source": []
  },
  {
   "cell_type": "code",
   "execution_count": null,
   "metadata": {
    "collapsed": true
   },
   "outputs": [],
   "source": []
  },
  {
   "cell_type": "code",
   "execution_count": null,
   "metadata": {
    "collapsed": true
   },
   "outputs": [],
   "source": []
  },
  {
   "cell_type": "code",
   "execution_count": null,
   "metadata": {
    "collapsed": true
   },
   "outputs": [],
   "source": []
  },
  {
   "cell_type": "code",
   "execution_count": null,
   "metadata": {
    "collapsed": true
   },
   "outputs": [],
   "source": []
  },
  {
   "cell_type": "markdown",
   "metadata": {},
   "source": [
    "**-_-_-_-_-_-_-_-_-_-_-_-_-_-_-_-_-_-_-_-_-_-_-_-_-_-_-_-_-_-_-_-_-_-_-_-_-_-_-_-_-_-_-_-_-_-_-_-_-_-_-_-_-_-_-_-_-_-_-_-_-**"
   ]
  }
 ],
 "metadata": {
  "anaconda-cloud": {},
  "kernelspec": {
   "display_name": "Python 2",
   "language": "python",
   "name": "python2"
  },
  "language_info": {
   "codemirror_mode": {
    "name": "ipython",
    "version": 2
   },
   "file_extension": ".py",
   "mimetype": "text/x-python",
   "name": "python",
   "nbconvert_exporter": "python",
   "pygments_lexer": "ipython2",
   "version": "2.7.12"
  }
 },
 "nbformat": 4,
 "nbformat_minor": 1
}
